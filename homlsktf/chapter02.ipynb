{
 "cells": [
  {
   "cell_type": "code",
   "execution_count": 1,
   "metadata": {},
   "outputs": [],
   "source": [
    "import os\n",
    "import tarfile\n",
    "import urllib"
   ]
  },
  {
   "cell_type": "code",
   "execution_count": 10,
   "metadata": {},
   "outputs": [],
   "source": [
    "DOWNLOAD_ROOT = \"https://raw.githubusercontent.com/ageron/handson-ml2/master/\"\n",
    "HOUSING_PATH = os.path.join(\"datasets\", \"housing\")\n",
    "HOUSING_URL = DOWNLOAD_ROOT + \"datasets/housing/housing.tgz\""
   ]
  },
  {
   "cell_type": "code",
   "execution_count": 11,
   "metadata": {},
   "outputs": [],
   "source": [
    "def fetch_housing_data(housing_url=HOUSING_URL, housing_path=HOUSING_PATH):\n",
    "    os.makedirs(housing_path, exist_ok=True)\n",
    "    tgz_path = os.path.join(housing_path, \"housing.tgz\")\n",
    "    urllib.request.urlretrieve(housing_url, tgz_path)\n",
    "    housing_tgz = tarfile.open(tgz_path)\n",
    "    housing_tgz.extractall(path=housing_path)\n",
    "    housing_tgz.close()"
   ]
  },
  {
   "cell_type": "code",
   "execution_count": 12,
   "metadata": {},
   "outputs": [],
   "source": [
    "fetch_housing_data()"
   ]
  },
  {
   "cell_type": "code",
   "execution_count": 13,
   "metadata": {},
   "outputs": [
    {
     "name": "stdout",
     "output_type": "stream",
     "text": [
      " Volume in drive C has no label.\n",
      " Volume Serial Number is 08B8-8CBA\n",
      "\n",
      " Directory of C:\\Users\\vishw\\Desktop\\git tracked\\learningNotes\\homlsktf\n",
      "\n",
      "11-10-2020  04:42 AM    <DIR>          .\n",
      "11-10-2020  04:42 AM    <DIR>          ..\n",
      "11-10-2020  03:20 AM    <DIR>          .ipynb_checkpoints\n",
      "11-10-2020  04:40 AM    <DIR>          datasets\n",
      "11-10-2020  03:28 AM               116 debug.log\n",
      "11-10-2020  04:42 AM            12,928 Untitled.ipynb\n",
      "               2 File(s)         13,044 bytes\n",
      "               4 Dir(s)  52,625,375,232 bytes free\n"
     ]
    }
   ],
   "source": [
    "!dir"
   ]
  },
  {
   "cell_type": "code",
   "execution_count": 16,
   "metadata": {},
   "outputs": [
    {
     "name": "stderr",
     "output_type": "stream",
     "text": [
      "Invalid switch - \"housing\".\n"
     ]
    }
   ],
   "source": [
    "    "
   ]
  },
  {
   "cell_type": "code",
   "execution_count": 15,
   "metadata": {},
   "outputs": [
    {
     "name": "stdout",
     "output_type": "stream",
     "text": [
      " Volume in drive C has no label.\n",
      " Volume Serial Number is 08B8-8CBA\n",
      "\n",
      " Directory of C:\\Users\\vishw\\Desktop\\git tracked\\learningNotes\\homlsktf\n",
      "\n",
      "11-10-2020  04:42 AM    <DIR>          .\n",
      "11-10-2020  04:42 AM    <DIR>          ..\n",
      "11-10-2020  03:20 AM    <DIR>          .ipynb_checkpoints\n",
      "11-10-2020  04:40 AM    <DIR>          datasets\n",
      "11-10-2020  03:28 AM               116 debug.log\n",
      "11-10-2020  04:42 AM            12,928 Untitled.ipynb\n",
      "               2 File(s)         13,044 bytes\n",
      "               4 Dir(s)  52,625,104,896 bytes free\n"
     ]
    }
   ],
   "source": [
    "! dir"
   ]
  },
  {
   "cell_type": "code",
   "execution_count": null,
   "metadata": {},
   "outputs": [],
   "source": []
  }
 ],
 "metadata": {
  "kernelspec": {
   "display_name": "Python 3",
   "language": "python",
   "name": "python3"
  },
  "language_info": {
   "codemirror_mode": {
    "name": "ipython",
    "version": 3
   },
   "file_extension": ".py",
   "mimetype": "text/x-python",
   "name": "python",
   "nbconvert_exporter": "python",
   "pygments_lexer": "ipython3",
   "version": "3.8.3"
  }
 },
 "nbformat": 4,
 "nbformat_minor": 4
}
