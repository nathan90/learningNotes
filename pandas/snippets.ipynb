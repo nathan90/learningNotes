{
 "metadata": {
  "language_info": {
   "codemirror_mode": {
    "name": "ipython",
    "version": 3
   },
   "file_extension": ".py",
   "mimetype": "text/x-python",
   "name": "python",
   "nbconvert_exporter": "python",
   "pygments_lexer": "ipython3",
   "version": "3.8.3-final"
  },
  "orig_nbformat": 2,
  "kernelspec": {
   "name": "python38364bitlearnpandasvenv8de4f16dc2ec4f60b0131c7d9ecaa118",
   "display_name": "Python 3.8.3 64-bit ('learnpandas': venv)"
  }
 },
 "nbformat": 4,
 "nbformat_minor": 2,
 "cells": [
  {
   "cell_type": "code",
   "execution_count": 123,
   "metadata": {},
   "outputs": [],
   "source": [
    "person = {\n",
    "    \"first\": \"Nathan\",\n",
    "    \"last\": \"Schafer\",\n",
    "    \"email\": \"madmax@abc.com\"\n",
    "}\n"
   ]
  },
  {
   "cell_type": "code",
   "execution_count": 124,
   "metadata": {},
   "outputs": [],
   "source": [
    "people = {\n",
    "    \"first\": [\"Corey\"],\n",
    "    \"last\": [\"Schafer\"],\n",
    "    \"email\": [\"nathanbabu@baooo.com\"]\n",
    "}"
   ]
  },
  {
   "cell_type": "code",
   "execution_count": 125,
   "metadata": {},
   "outputs": [],
   "source": [
    "people = {\n",
    "    \"first\": [\"Nathan\", \"Babo\", \"Simon\"],\n",
    "    \"last\": [\"Schafer\", \"Namboori\", \"postman\"],\n",
    "    \"email\": [\"nathan@baboo.com\", \"baboo@postman.com\", \"namboori@yes.com\"]\n",
    "}"
   ]
  },
  {
   "cell_type": "code",
   "execution_count": 126,
   "metadata": {},
   "outputs": [],
   "source": [
    "import pandas as pd"
   ]
  },
  {
   "cell_type": "code",
   "execution_count": 127,
   "metadata": {},
   "outputs": [],
   "source": [
    "\n",
    "people_df = pd.DataFrame(people)"
   ]
  },
  {
   "cell_type": "code",
   "execution_count": 128,
   "metadata": {},
   "outputs": [
    {
     "output_type": "execute_result",
     "data": {
      "text/plain": "    first      last              email\n0  Nathan   Schafer   nathan@baboo.com\n1    Babo  Namboori  baboo@postman.com\n2   Simon   postman   namboori@yes.com",
      "text/html": "<div>\n<style scoped>\n    .dataframe tbody tr th:only-of-type {\n        vertical-align: middle;\n    }\n\n    .dataframe tbody tr th {\n        vertical-align: top;\n    }\n\n    .dataframe thead th {\n        text-align: right;\n    }\n</style>\n<table border=\"1\" class=\"dataframe\">\n  <thead>\n    <tr style=\"text-align: right;\">\n      <th></th>\n      <th>first</th>\n      <th>last</th>\n      <th>email</th>\n    </tr>\n  </thead>\n  <tbody>\n    <tr>\n      <th>0</th>\n      <td>Nathan</td>\n      <td>Schafer</td>\n      <td>nathan@baboo.com</td>\n    </tr>\n    <tr>\n      <th>1</th>\n      <td>Babo</td>\n      <td>Namboori</td>\n      <td>baboo@postman.com</td>\n    </tr>\n    <tr>\n      <th>2</th>\n      <td>Simon</td>\n      <td>postman</td>\n      <td>namboori@yes.com</td>\n    </tr>\n  </tbody>\n</table>\n</div>"
     },
     "metadata": {},
     "execution_count": 128
    }
   ],
   "source": [
    "people_df"
   ]
  },
  {
   "cell_type": "code",
   "execution_count": 129,
   "metadata": {},
   "outputs": [
    {
     "output_type": "execute_result",
     "data": {
      "text/plain": "0     nathan@baboo.com\n1    baboo@postman.com\n2     namboori@yes.com\nName: email, dtype: object"
     },
     "metadata": {},
     "execution_count": 129
    }
   ],
   "source": [
    "people_df['email']"
   ]
  },
  {
   "cell_type": "code",
   "execution_count": 130,
   "metadata": {},
   "outputs": [],
   "source": [
    "email = people_df['email']"
   ]
  },
  {
   "cell_type": "code",
   "execution_count": 131,
   "metadata": {},
   "outputs": [
    {
     "output_type": "execute_result",
     "data": {
      "text/plain": "pandas.core.series.Series"
     },
     "metadata": {},
     "execution_count": 131
    }
   ],
   "source": [
    "type(email)"
   ]
  },
  {
   "cell_type": "markdown",
   "metadata": {},
   "source": [
    "A series is similar to a list of data. One dimensional array. Rows of a single column  \n",
    "A dataframe is a container for multiple series object  \n",
    "we can use either square brackets or dot(.) notation to select individual columns\n"
   ]
  },
  {
   "cell_type": "code",
   "execution_count": 132,
   "metadata": {},
   "outputs": [
    {
     "output_type": "execute_result",
     "data": {
      "text/plain": "       last              email\n0   Schafer   nathan@baboo.com\n1  Namboori  baboo@postman.com\n2   postman   namboori@yes.com",
      "text/html": "<div>\n<style scoped>\n    .dataframe tbody tr th:only-of-type {\n        vertical-align: middle;\n    }\n\n    .dataframe tbody tr th {\n        vertical-align: top;\n    }\n\n    .dataframe thead th {\n        text-align: right;\n    }\n</style>\n<table border=\"1\" class=\"dataframe\">\n  <thead>\n    <tr style=\"text-align: right;\">\n      <th></th>\n      <th>last</th>\n      <th>email</th>\n    </tr>\n  </thead>\n  <tbody>\n    <tr>\n      <th>0</th>\n      <td>Schafer</td>\n      <td>nathan@baboo.com</td>\n    </tr>\n    <tr>\n      <th>1</th>\n      <td>Namboori</td>\n      <td>baboo@postman.com</td>\n    </tr>\n    <tr>\n      <th>2</th>\n      <td>postman</td>\n      <td>namboori@yes.com</td>\n    </tr>\n  </tbody>\n</table>\n</div>"
     },
     "metadata": {},
     "execution_count": 132
    }
   ],
   "source": [
    "people_df[['last', 'email']]"
   ]
  },
  {
   "cell_type": "code",
   "execution_count": 133,
   "metadata": {},
   "outputs": [
    {
     "output_type": "execute_result",
     "data": {
      "text/plain": "pandas.core.frame.DataFrame"
     },
     "metadata": {},
     "execution_count": 133
    }
   ],
   "source": [
    "type(people_df[['last', 'email']])"
   ]
  },
  {
   "cell_type": "code",
   "execution_count": 134,
   "metadata": {},
   "outputs": [
    {
     "output_type": "execute_result",
     "data": {
      "text/plain": "Index(['first', 'last', 'email'], dtype='object')"
     },
     "metadata": {},
     "execution_count": 134
    }
   ],
   "source": [
    "# to get a list of all the columns\n",
    "people_df.columns"
   ]
  },
  {
   "cell_type": "code",
   "execution_count": 135,
   "metadata": {},
   "outputs": [
    {
     "output_type": "execute_result",
     "data": {
      "text/plain": "first              Nathan\nlast              Schafer\nemail    nathan@baboo.com\nName: 0, dtype: object"
     },
     "metadata": {},
     "execution_count": 135
    }
   ],
   "source": [
    "# to get a particlular row, we use the loc and iloc indexers\n",
    "# iloc allows us to access rows by integer locations\n",
    "people_df.iloc[0]"
   ]
  },
  {
   "cell_type": "code",
   "execution_count": 136,
   "metadata": {},
   "outputs": [
    {
     "output_type": "execute_result",
     "data": {
      "text/plain": "True"
     },
     "metadata": {},
     "execution_count": 136
    }
   ],
   "source": [
    "people_df.iloc[0][\"first\"] ==\"Nathan\""
   ]
  },
  {
   "cell_type": "code",
   "execution_count": 137,
   "metadata": {},
   "outputs": [
    {
     "output_type": "execute_result",
     "data": {
      "text/plain": "    first      last              email\n0  Nathan   Schafer   nathan@baboo.com\n1    Babo  Namboori  baboo@postman.com",
      "text/html": "<div>\n<style scoped>\n    .dataframe tbody tr th:only-of-type {\n        vertical-align: middle;\n    }\n\n    .dataframe tbody tr th {\n        vertical-align: top;\n    }\n\n    .dataframe thead th {\n        text-align: right;\n    }\n</style>\n<table border=\"1\" class=\"dataframe\">\n  <thead>\n    <tr style=\"text-align: right;\">\n      <th></th>\n      <th>first</th>\n      <th>last</th>\n      <th>email</th>\n    </tr>\n  </thead>\n  <tbody>\n    <tr>\n      <th>0</th>\n      <td>Nathan</td>\n      <td>Schafer</td>\n      <td>nathan@baboo.com</td>\n    </tr>\n    <tr>\n      <th>1</th>\n      <td>Babo</td>\n      <td>Namboori</td>\n      <td>baboo@postman.com</td>\n    </tr>\n  </tbody>\n</table>\n</div>"
     },
     "metadata": {},
     "execution_count": 137
    }
   ],
   "source": [
    "# multiple rows\n",
    "people_df.iloc[[0, 1]]"
   ]
  },
  {
   "cell_type": "code",
   "execution_count": 138,
   "metadata": {},
   "outputs": [
    {
     "output_type": "execute_result",
     "data": {
      "text/plain": "0     nathan@baboo.com\n1    baboo@postman.com\nName: email, dtype: object"
     },
     "metadata": {},
     "execution_count": 138
    }
   ],
   "source": [
    "# to get the specific columns we want\n",
    "people_df.iloc[[0, 1], 2]"
   ]
  },
  {
   "cell_type": "code",
   "execution_count": 139,
   "metadata": {},
   "outputs": [
    {
     "output_type": "execute_result",
     "data": {
      "text/plain": "first              Nathan\nlast              Schafer\nemail    nathan@baboo.com\nName: 0, dtype: object"
     },
     "metadata": {},
     "execution_count": 139
    }
   ],
   "source": [
    "# when we use loc, we are  searching by the label\n",
    "people_df.loc[0]"
   ]
  },
  {
   "cell_type": "code",
   "execution_count": 140,
   "metadata": {},
   "outputs": [
    {
     "output_type": "execute_result",
     "data": {
      "text/plain": "    first      last              email\n0  Nathan   Schafer   nathan@baboo.com\n1    Babo  Namboori  baboo@postman.com",
      "text/html": "<div>\n<style scoped>\n    .dataframe tbody tr th:only-of-type {\n        vertical-align: middle;\n    }\n\n    .dataframe tbody tr th {\n        vertical-align: top;\n    }\n\n    .dataframe thead th {\n        text-align: right;\n    }\n</style>\n<table border=\"1\" class=\"dataframe\">\n  <thead>\n    <tr style=\"text-align: right;\">\n      <th></th>\n      <th>first</th>\n      <th>last</th>\n      <th>email</th>\n    </tr>\n  </thead>\n  <tbody>\n    <tr>\n      <th>0</th>\n      <td>Nathan</td>\n      <td>Schafer</td>\n      <td>nathan@baboo.com</td>\n    </tr>\n    <tr>\n      <th>1</th>\n      <td>Babo</td>\n      <td>Namboori</td>\n      <td>baboo@postman.com</td>\n    </tr>\n  </tbody>\n</table>\n</div>"
     },
     "metadata": {},
     "execution_count": 140
    }
   ],
   "source": [
    "#multiple rows\n",
    "people_df.loc[[0, 1]]"
   ]
  },
  {
   "cell_type": "code",
   "execution_count": 141,
   "metadata": {},
   "outputs": [
    {
     "output_type": "execute_result",
     "data": {
      "text/plain": "0     nathan@baboo.com\n1    baboo@postman.com\nName: email, dtype: object"
     },
     "metadata": {},
     "execution_count": 141
    }
   ],
   "source": [
    "# specified column using loc\n",
    "people_df.loc[[0, 1], 'email']"
   ]
  },
  {
   "cell_type": "code",
   "execution_count": 142,
   "metadata": {},
   "outputs": [
    {
     "output_type": "execute_result",
     "data": {
      "text/plain": "               email      last\n0   nathan@baboo.com   Schafer\n1  baboo@postman.com  Namboori",
      "text/html": "<div>\n<style scoped>\n    .dataframe tbody tr th:only-of-type {\n        vertical-align: middle;\n    }\n\n    .dataframe tbody tr th {\n        vertical-align: top;\n    }\n\n    .dataframe thead th {\n        text-align: right;\n    }\n</style>\n<table border=\"1\" class=\"dataframe\">\n  <thead>\n    <tr style=\"text-align: right;\">\n      <th></th>\n      <th>email</th>\n      <th>last</th>\n    </tr>\n  </thead>\n  <tbody>\n    <tr>\n      <th>0</th>\n      <td>nathan@baboo.com</td>\n      <td>Schafer</td>\n    </tr>\n    <tr>\n      <th>1</th>\n      <td>baboo@postman.com</td>\n      <td>Namboori</td>\n    </tr>\n  </tbody>\n</table>\n</div>"
     },
     "metadata": {},
     "execution_count": 142
    }
   ],
   "source": [
    "# pass list of columns with loc\n",
    "people_df.loc[[0, 1], ['email', 'last']]"
   ]
  },
  {
   "cell_type": "code",
   "execution_count": 143,
   "metadata": {},
   "outputs": [
    {
     "output_type": "execute_result",
     "data": {
      "text/plain": "    first      last              email\n0  Nathan   Schafer   nathan@baboo.com\n1    Babo  Namboori  baboo@postman.com\n2   Simon   postman   namboori@yes.com",
      "text/html": "<div>\n<style scoped>\n    .dataframe tbody tr th:only-of-type {\n        vertical-align: middle;\n    }\n\n    .dataframe tbody tr th {\n        vertical-align: top;\n    }\n\n    .dataframe thead th {\n        text-align: right;\n    }\n</style>\n<table border=\"1\" class=\"dataframe\">\n  <thead>\n    <tr style=\"text-align: right;\">\n      <th></th>\n      <th>first</th>\n      <th>last</th>\n      <th>email</th>\n    </tr>\n  </thead>\n  <tbody>\n    <tr>\n      <th>0</th>\n      <td>Nathan</td>\n      <td>Schafer</td>\n      <td>nathan@baboo.com</td>\n    </tr>\n    <tr>\n      <th>1</th>\n      <td>Babo</td>\n      <td>Namboori</td>\n      <td>baboo@postman.com</td>\n    </tr>\n    <tr>\n      <th>2</th>\n      <td>Simon</td>\n      <td>postman</td>\n      <td>namboori@yes.com</td>\n    </tr>\n  </tbody>\n</table>\n</div>"
     },
     "metadata": {},
     "execution_count": 143
    }
   ],
   "source": [
    "people_df\n"
   ]
  },
  {
   "cell_type": "code",
   "execution_count": 144,
   "metadata": {},
   "outputs": [],
   "source": [
    "# columns without name on the left is the index, default is integer starting at 0\n",
    "#usually unique\n",
    "# inplace = true modifies the data frame and removes the default index column shown on the left side\n",
    "people_df.set_index('email', inplace = True)"
   ]
  },
  {
   "cell_type": "code",
   "execution_count": 145,
   "metadata": {},
   "outputs": [
    {
     "output_type": "execute_result",
     "data": {
      "text/plain": "                    first      last\nemail                              \nnathan@baboo.com   Nathan   Schafer\nbaboo@postman.com    Babo  Namboori\nnamboori@yes.com    Simon   postman",
      "text/html": "<div>\n<style scoped>\n    .dataframe tbody tr th:only-of-type {\n        vertical-align: middle;\n    }\n\n    .dataframe tbody tr th {\n        vertical-align: top;\n    }\n\n    .dataframe thead th {\n        text-align: right;\n    }\n</style>\n<table border=\"1\" class=\"dataframe\">\n  <thead>\n    <tr style=\"text-align: right;\">\n      <th></th>\n      <th>first</th>\n      <th>last</th>\n    </tr>\n    <tr>\n      <th>email</th>\n      <th></th>\n      <th></th>\n    </tr>\n  </thead>\n  <tbody>\n    <tr>\n      <th>nathan@baboo.com</th>\n      <td>Nathan</td>\n      <td>Schafer</td>\n    </tr>\n    <tr>\n      <th>baboo@postman.com</th>\n      <td>Babo</td>\n      <td>Namboori</td>\n    </tr>\n    <tr>\n      <th>namboori@yes.com</th>\n      <td>Simon</td>\n      <td>postman</td>\n    </tr>\n  </tbody>\n</table>\n</div>"
     },
     "metadata": {},
     "execution_count": 145
    }
   ],
   "source": [
    "people_df\n"
   ]
  },
  {
   "cell_type": "code",
   "execution_count": 146,
   "metadata": {},
   "outputs": [
    {
     "output_type": "execute_result",
     "data": {
      "text/plain": "Index(['nathan@baboo.com', 'baboo@postman.com', 'namboori@yes.com'], dtype='object', name='email')"
     },
     "metadata": {},
     "execution_count": 146
    }
   ],
   "source": [
    "people_df.index"
   ]
  },
  {
   "cell_type": "code",
   "execution_count": 147,
   "metadata": {},
   "outputs": [
    {
     "output_type": "execute_result",
     "data": {
      "text/plain": "first     Nathan\nlast     Schafer\nName: nathan@baboo.com, dtype: object"
     },
     "metadata": {},
     "execution_count": 147
    }
   ],
   "source": [
    "# now we have created these index, we can use df.loc to pass email id as a label\n",
    "people_df.loc['nathan@baboo.com']\n"
   ]
  },
  {
   "cell_type": "code",
   "execution_count": 148,
   "metadata": {},
   "outputs": [
    {
     "output_type": "execute_result",
     "data": {
      "text/plain": "'Nathan'"
     },
     "metadata": {},
     "execution_count": 148
    }
   ],
   "source": [
    "# to get value of a particular column\n",
    "people_df.loc['nathan@baboo.com', 'first']"
   ]
  },
  {
   "cell_type": "code",
   "execution_count": 149,
   "metadata": {},
   "outputs": [
    {
     "output_type": "execute_result",
     "data": {
      "text/plain": "first     Nathan\nlast     Schafer\nName: nathan@baboo.com, dtype: object"
     },
     "metadata": {},
     "execution_count": 149
    }
   ],
   "source": [
    "# to get the integer location as given below, we can still use the iloc method\n",
    "people_df.iloc[0]"
   ]
  },
  {
   "cell_type": "code",
   "execution_count": 150,
   "metadata": {},
   "outputs": [
    {
     "output_type": "execute_result",
     "data": {
      "text/plain": "               email   first      last\n0   nathan@baboo.com  Nathan   Schafer\n1  baboo@postman.com    Babo  Namboori\n2   namboori@yes.com   Simon   postman",
      "text/html": "<div>\n<style scoped>\n    .dataframe tbody tr th:only-of-type {\n        vertical-align: middle;\n    }\n\n    .dataframe tbody tr th {\n        vertical-align: top;\n    }\n\n    .dataframe thead th {\n        text-align: right;\n    }\n</style>\n<table border=\"1\" class=\"dataframe\">\n  <thead>\n    <tr style=\"text-align: right;\">\n      <th></th>\n      <th>email</th>\n      <th>first</th>\n      <th>last</th>\n    </tr>\n  </thead>\n  <tbody>\n    <tr>\n      <th>0</th>\n      <td>nathan@baboo.com</td>\n      <td>Nathan</td>\n      <td>Schafer</td>\n    </tr>\n    <tr>\n      <th>1</th>\n      <td>baboo@postman.com</td>\n      <td>Babo</td>\n      <td>Namboori</td>\n    </tr>\n    <tr>\n      <th>2</th>\n      <td>namboori@yes.com</td>\n      <td>Simon</td>\n      <td>postman</td>\n    </tr>\n  </tbody>\n</table>\n</div>"
     },
     "metadata": {},
     "execution_count": 150
    }
   ],
   "source": [
    "# to reset the index\n",
    "people_df.reset_index(inplace = True)\n",
    "people_df"
   ]
  },
  {
   "cell_type": "code",
   "execution_count": 151,
   "metadata": {},
   "outputs": [
    {
     "output_type": "execute_result",
     "data": {
      "text/plain": "Index(['email', 'first', 'last'], dtype='object')"
     },
     "metadata": {},
     "execution_count": 151
    }
   ],
   "source": [
    "people_df.columns\n"
   ]
  },
  {
   "cell_type": "code",
   "execution_count": 152,
   "metadata": {},
   "outputs": [],
   "source": [
    "people_df['last'] == 'postman'\n",
    "# The above is a filter mask and will give you all the rows that meet that filter criteria\n",
    "# assign the filter to a variable\n",
    "filt = (people_df['last'] == 'postman')\n"
   ]
  },
  {
   "cell_type": "code",
   "execution_count": 153,
   "metadata": {},
   "outputs": [
    {
     "output_type": "execute_result",
     "data": {
      "text/plain": "              email  first     last\n2  namboori@yes.com  Simon  postman",
      "text/html": "<div>\n<style scoped>\n    .dataframe tbody tr th:only-of-type {\n        vertical-align: middle;\n    }\n\n    .dataframe tbody tr th {\n        vertical-align: top;\n    }\n\n    .dataframe thead th {\n        text-align: right;\n    }\n</style>\n<table border=\"1\" class=\"dataframe\">\n  <thead>\n    <tr style=\"text-align: right;\">\n      <th></th>\n      <th>email</th>\n      <th>first</th>\n      <th>last</th>\n    </tr>\n  </thead>\n  <tbody>\n    <tr>\n      <th>2</th>\n      <td>namboori@yes.com</td>\n      <td>Simon</td>\n      <td>postman</td>\n    </tr>\n  </tbody>\n</table>\n</div>"
     },
     "metadata": {},
     "execution_count": 153
    }
   ],
   "source": [
    "# apply filter to dataframe\n",
    "people_df[filt]"
   ]
  },
  {
   "cell_type": "code",
   "execution_count": 154,
   "metadata": {},
   "outputs": [
    {
     "output_type": "execute_result",
     "data": {
      "text/plain": "              email  first     last\n2  namboori@yes.com  Simon  postman",
      "text/html": "<div>\n<style scoped>\n    .dataframe tbody tr th:only-of-type {\n        vertical-align: middle;\n    }\n\n    .dataframe tbody tr th {\n        vertical-align: top;\n    }\n\n    .dataframe thead th {\n        text-align: right;\n    }\n</style>\n<table border=\"1\" class=\"dataframe\">\n  <thead>\n    <tr style=\"text-align: right;\">\n      <th></th>\n      <th>email</th>\n      <th>first</th>\n      <th>last</th>\n    </tr>\n  </thead>\n  <tbody>\n    <tr>\n      <th>2</th>\n      <td>namboori@yes.com</td>\n      <td>Simon</td>\n      <td>postman</td>\n    </tr>\n  </tbody>\n</table>\n</div>"
     },
     "metadata": {},
     "execution_count": 154
    }
   ],
   "source": [
    "# Another way to filter\n",
    "people_df.loc[filt]"
   ]
  },
  {
   "cell_type": "code",
   "execution_count": 155,
   "metadata": {},
   "outputs": [
    {
     "output_type": "execute_result",
     "data": {
      "text/plain": "   first             email\n2  Simon  namboori@yes.com",
      "text/html": "<div>\n<style scoped>\n    .dataframe tbody tr th:only-of-type {\n        vertical-align: middle;\n    }\n\n    .dataframe tbody tr th {\n        vertical-align: top;\n    }\n\n    .dataframe thead th {\n        text-align: right;\n    }\n</style>\n<table border=\"1\" class=\"dataframe\">\n  <thead>\n    <tr style=\"text-align: right;\">\n      <th></th>\n      <th>first</th>\n      <th>email</th>\n    </tr>\n  </thead>\n  <tbody>\n    <tr>\n      <th>2</th>\n      <td>Simon</td>\n      <td>namboori@yes.com</td>\n    </tr>\n  </tbody>\n</table>\n</div>"
     },
     "metadata": {},
     "execution_count": 155
    }
   ],
   "source": [
    "people_df.loc[filt, ['first','email']]\n",
    "# first value in loc is the rows that we want and the 2nd value is the columns that we want"
   ]
  },
  {
   "cell_type": "code",
   "execution_count": 156,
   "metadata": {},
   "outputs": [],
   "source": [
    "#AND AND OR filters specific to pandas & for AND, | for OR\n",
    "filt = (people_df['last'] == 'postman') & (people_df['first'] == 'Simon')"
   ]
  },
  {
   "cell_type": "code",
   "execution_count": 157,
   "metadata": {},
   "outputs": [
    {
     "output_type": "execute_result",
     "data": {
      "text/plain": "2    namboori@yes.com\nName: email, dtype: object"
     },
     "metadata": {},
     "execution_count": 157
    }
   ],
   "source": [
    "people_df.loc[filt, 'email']"
   ]
  },
  {
   "cell_type": "code",
   "execution_count": 158,
   "metadata": {},
   "outputs": [
    {
     "output_type": "execute_result",
     "data": {
      "text/plain": "1    baboo@postman.com\n2     namboori@yes.com\nName: email, dtype: object"
     },
     "metadata": {},
     "execution_count": 158
    }
   ],
   "source": [
    "filt = (people_df['last'] == 'postman') | (people_df['first'] == 'Babo')\n",
    "people_df.loc[filt, 'email']"
   ]
  },
  {
   "cell_type": "code",
   "execution_count": 159,
   "metadata": {},
   "outputs": [
    {
     "output_type": "execute_result",
     "data": {
      "text/plain": "0    nathan@baboo.com\nName: email, dtype: object"
     },
     "metadata": {},
     "execution_count": 159
    }
   ],
   "source": [
    "# to filter based on the opposite of filter condition\n",
    "people_df.loc[~filt, 'email'] # truth table"
   ]
  },
  {
   "cell_type": "code",
   "execution_count": 160,
   "metadata": {},
   "outputs": [
    {
     "output_type": "execute_result",
     "data": {
      "text/plain": "               email   first      last\n0   nathan@baboo.com  Nathan   Schafer\n1  baboo@postman.com    Babo  Namboori\n2   namboori@yes.com   Simon   postman",
      "text/html": "<div>\n<style scoped>\n    .dataframe tbody tr th:only-of-type {\n        vertical-align: middle;\n    }\n\n    .dataframe tbody tr th {\n        vertical-align: top;\n    }\n\n    .dataframe thead th {\n        text-align: right;\n    }\n</style>\n<table border=\"1\" class=\"dataframe\">\n  <thead>\n    <tr style=\"text-align: right;\">\n      <th></th>\n      <th>email</th>\n      <th>first</th>\n      <th>last</th>\n    </tr>\n  </thead>\n  <tbody>\n    <tr>\n      <th>0</th>\n      <td>nathan@baboo.com</td>\n      <td>Nathan</td>\n      <td>Schafer</td>\n    </tr>\n    <tr>\n      <th>1</th>\n      <td>baboo@postman.com</td>\n      <td>Babo</td>\n      <td>Namboori</td>\n    </tr>\n    <tr>\n      <th>2</th>\n      <td>namboori@yes.com</td>\n      <td>Simon</td>\n      <td>postman</td>\n    </tr>\n  </tbody>\n</table>\n</div>"
     },
     "metadata": {},
     "execution_count": 160
    }
   ],
   "source": [
    "#update data with filters\n",
    "people_df"
   ]
  },
  {
   "cell_type": "code",
   "execution_count": 161,
   "metadata": {},
   "outputs": [],
   "source": [
    "people_df.columns = ['email', 'first_name', 'last_name']"
   ]
  },
  {
   "cell_type": "code",
   "execution_count": 162,
   "metadata": {},
   "outputs": [
    {
     "output_type": "execute_result",
     "data": {
      "text/plain": "               email first_name last_name\n0   nathan@baboo.com     Nathan   Schafer\n1  baboo@postman.com       Babo  Namboori\n2   namboori@yes.com      Simon   postman",
      "text/html": "<div>\n<style scoped>\n    .dataframe tbody tr th:only-of-type {\n        vertical-align: middle;\n    }\n\n    .dataframe tbody tr th {\n        vertical-align: top;\n    }\n\n    .dataframe thead th {\n        text-align: right;\n    }\n</style>\n<table border=\"1\" class=\"dataframe\">\n  <thead>\n    <tr style=\"text-align: right;\">\n      <th></th>\n      <th>email</th>\n      <th>first_name</th>\n      <th>last_name</th>\n    </tr>\n  </thead>\n  <tbody>\n    <tr>\n      <th>0</th>\n      <td>nathan@baboo.com</td>\n      <td>Nathan</td>\n      <td>Schafer</td>\n    </tr>\n    <tr>\n      <th>1</th>\n      <td>baboo@postman.com</td>\n      <td>Babo</td>\n      <td>Namboori</td>\n    </tr>\n    <tr>\n      <th>2</th>\n      <td>namboori@yes.com</td>\n      <td>Simon</td>\n      <td>postman</td>\n    </tr>\n  </tbody>\n</table>\n</div>"
     },
     "metadata": {},
     "execution_count": 162
    }
   ],
   "source": [
    "people_df"
   ]
  },
  {
   "cell_type": "code",
   "execution_count": 163,
   "metadata": {},
   "outputs": [],
   "source": [
    "# to convert all the column names to uppercase\n",
    "people_df.columns = [x.upper() for x in people_df.columns]"
   ]
  },
  {
   "cell_type": "code",
   "execution_count": 164,
   "metadata": {},
   "outputs": [
    {
     "output_type": "execute_result",
     "data": {
      "text/plain": "               EMAIL FIRST_NAME LAST_NAME\n0   nathan@baboo.com     Nathan   Schafer\n1  baboo@postman.com       Babo  Namboori\n2   namboori@yes.com      Simon   postman",
      "text/html": "<div>\n<style scoped>\n    .dataframe tbody tr th:only-of-type {\n        vertical-align: middle;\n    }\n\n    .dataframe tbody tr th {\n        vertical-align: top;\n    }\n\n    .dataframe thead th {\n        text-align: right;\n    }\n</style>\n<table border=\"1\" class=\"dataframe\">\n  <thead>\n    <tr style=\"text-align: right;\">\n      <th></th>\n      <th>EMAIL</th>\n      <th>FIRST_NAME</th>\n      <th>LAST_NAME</th>\n    </tr>\n  </thead>\n  <tbody>\n    <tr>\n      <th>0</th>\n      <td>nathan@baboo.com</td>\n      <td>Nathan</td>\n      <td>Schafer</td>\n    </tr>\n    <tr>\n      <th>1</th>\n      <td>baboo@postman.com</td>\n      <td>Babo</td>\n      <td>Namboori</td>\n    </tr>\n    <tr>\n      <th>2</th>\n      <td>namboori@yes.com</td>\n      <td>Simon</td>\n      <td>postman</td>\n    </tr>\n  </tbody>\n</table>\n</div>"
     },
     "metadata": {},
     "execution_count": 164
    }
   ],
   "source": [
    "people_df"
   ]
  },
  {
   "cell_type": "code",
   "execution_count": 165,
   "metadata": {},
   "outputs": [
    {
     "output_type": "execute_result",
     "data": {
      "text/plain": "               email first_name last_name\n0   nathan@baboo.com     Nathan   Schafer\n1  baboo@postman.com       Babo  Namboori\n2   namboori@yes.com      Simon   postman",
      "text/html": "<div>\n<style scoped>\n    .dataframe tbody tr th:only-of-type {\n        vertical-align: middle;\n    }\n\n    .dataframe tbody tr th {\n        vertical-align: top;\n    }\n\n    .dataframe thead th {\n        text-align: right;\n    }\n</style>\n<table border=\"1\" class=\"dataframe\">\n  <thead>\n    <tr style=\"text-align: right;\">\n      <th></th>\n      <th>email</th>\n      <th>first_name</th>\n      <th>last_name</th>\n    </tr>\n  </thead>\n  <tbody>\n    <tr>\n      <th>0</th>\n      <td>nathan@baboo.com</td>\n      <td>Nathan</td>\n      <td>Schafer</td>\n    </tr>\n    <tr>\n      <th>1</th>\n      <td>baboo@postman.com</td>\n      <td>Babo</td>\n      <td>Namboori</td>\n    </tr>\n    <tr>\n      <th>2</th>\n      <td>namboori@yes.com</td>\n      <td>Simon</td>\n      <td>postman</td>\n    </tr>\n  </tbody>\n</table>\n</div>"
     },
     "metadata": {},
     "execution_count": 165
    }
   ],
   "source": [
    "# replace spaces with underscore\n",
    "people_df.columns = people_df.columns.str.replace(' ', '_')\n",
    "# to lower case\n",
    "people_df.columns = [x.lower() for x in people_df.columns]\n",
    "people_df"
   ]
  },
  {
   "cell_type": "code",
   "execution_count": 166,
   "metadata": {},
   "outputs": [
    {
     "output_type": "execute_result",
     "data": {
      "text/plain": "               email   first      last\n0   nathan@baboo.com  Nathan   Schafer\n1  baboo@postman.com    Babo  Namboori\n2   namboori@yes.com   Simon   postman",
      "text/html": "<div>\n<style scoped>\n    .dataframe tbody tr th:only-of-type {\n        vertical-align: middle;\n    }\n\n    .dataframe tbody tr th {\n        vertical-align: top;\n    }\n\n    .dataframe thead th {\n        text-align: right;\n    }\n</style>\n<table border=\"1\" class=\"dataframe\">\n  <thead>\n    <tr style=\"text-align: right;\">\n      <th></th>\n      <th>email</th>\n      <th>first</th>\n      <th>last</th>\n    </tr>\n  </thead>\n  <tbody>\n    <tr>\n      <th>0</th>\n      <td>nathan@baboo.com</td>\n      <td>Nathan</td>\n      <td>Schafer</td>\n    </tr>\n    <tr>\n      <th>1</th>\n      <td>baboo@postman.com</td>\n      <td>Babo</td>\n      <td>Namboori</td>\n    </tr>\n    <tr>\n      <th>2</th>\n      <td>namboori@yes.com</td>\n      <td>Simon</td>\n      <td>postman</td>\n    </tr>\n  </tbody>\n</table>\n</div>"
     },
     "metadata": {},
     "execution_count": 166
    }
   ],
   "source": [
    "# if we want to change only some columns\n",
    "people_df.rename(columns = {'first_name': 'first', 'last_name': 'last'}, inplace = True)\n",
    "people_df"
   ]
  },
  {
   "cell_type": "code",
   "execution_count": 171,
   "metadata": {},
   "outputs": [],
   "source": [
    "#update data values\n",
    "# use loc for getting the row\n",
    "people_df.loc[2] = [\"JohnSmith@email.com\", \"John\", \"Smith\"]"
   ]
  },
  {
   "cell_type": "code",
   "execution_count": 172,
   "metadata": {},
   "outputs": [
    {
     "output_type": "execute_result",
     "data": {
      "text/plain": "                 email   first      last\n0     nathan@baboo.com  Nathan   Schafer\n1    baboo@postman.com    Babo  Namboori\n2  JohnSmith@email.com    John     Smith",
      "text/html": "<div>\n<style scoped>\n    .dataframe tbody tr th:only-of-type {\n        vertical-align: middle;\n    }\n\n    .dataframe tbody tr th {\n        vertical-align: top;\n    }\n\n    .dataframe thead th {\n        text-align: right;\n    }\n</style>\n<table border=\"1\" class=\"dataframe\">\n  <thead>\n    <tr style=\"text-align: right;\">\n      <th></th>\n      <th>email</th>\n      <th>first</th>\n      <th>last</th>\n    </tr>\n  </thead>\n  <tbody>\n    <tr>\n      <th>0</th>\n      <td>nathan@baboo.com</td>\n      <td>Nathan</td>\n      <td>Schafer</td>\n    </tr>\n    <tr>\n      <th>1</th>\n      <td>baboo@postman.com</td>\n      <td>Babo</td>\n      <td>Namboori</td>\n    </tr>\n    <tr>\n      <th>2</th>\n      <td>JohnSmith@email.com</td>\n      <td>John</td>\n      <td>Smith</td>\n    </tr>\n  </tbody>\n</table>\n</div>"
     },
     "metadata": {},
     "execution_count": 172
    }
   ],
   "source": [
    "people_df\n"
   ]
  },
  {
   "cell_type": "code",
   "execution_count": 173,
   "metadata": {},
   "outputs": [],
   "source": [
    "#change a value for a single column\n",
    "people_df.loc[2, ['last', 'email']] = ['Doe', 'JohnDoe@email.com']"
   ]
  },
  {
   "cell_type": "code",
   "execution_count": 174,
   "metadata": {},
   "outputs": [
    {
     "output_type": "execute_result",
     "data": {
      "text/plain": "               email   first      last\n0   nathan@baboo.com  Nathan   Schafer\n1  baboo@postman.com    Babo  Namboori\n2  JohnDoe@email.com    John       Doe",
      "text/html": "<div>\n<style scoped>\n    .dataframe tbody tr th:only-of-type {\n        vertical-align: middle;\n    }\n\n    .dataframe tbody tr th {\n        vertical-align: top;\n    }\n\n    .dataframe thead th {\n        text-align: right;\n    }\n</style>\n<table border=\"1\" class=\"dataframe\">\n  <thead>\n    <tr style=\"text-align: right;\">\n      <th></th>\n      <th>email</th>\n      <th>first</th>\n      <th>last</th>\n    </tr>\n  </thead>\n  <tbody>\n    <tr>\n      <th>0</th>\n      <td>nathan@baboo.com</td>\n      <td>Nathan</td>\n      <td>Schafer</td>\n    </tr>\n    <tr>\n      <th>1</th>\n      <td>baboo@postman.com</td>\n      <td>Babo</td>\n      <td>Namboori</td>\n    </tr>\n    <tr>\n      <th>2</th>\n      <td>JohnDoe@email.com</td>\n      <td>John</td>\n      <td>Doe</td>\n    </tr>\n  </tbody>\n</table>\n</div>"
     },
     "metadata": {},
     "execution_count": 174
    }
   ],
   "source": [
    " people_df"
   ]
  },
  {
   "cell_type": "code",
   "execution_count": 176,
   "metadata": {},
   "outputs": [],
   "source": [
    "# only a single column value\n",
    "people_df.loc[2, 'last'] = 'Smith'"
   ]
  },
  {
   "cell_type": "code",
   "execution_count": 177,
   "metadata": {},
   "outputs": [],
   "source": [
    "people_df.at[2, 'last'] = 'Doe'"
   ]
  },
  {
   "cell_type": "code",
   "execution_count": 178,
   "metadata": {},
   "outputs": [
    {
     "output_type": "execute_result",
     "data": {
      "text/plain": "               email   first      last\n0   nathan@baboo.com  Nathan   Schafer\n1  baboo@postman.com    Babo  Namboori\n2  JohnDoe@email.com    John       Doe",
      "text/html": "<div>\n<style scoped>\n    .dataframe tbody tr th:only-of-type {\n        vertical-align: middle;\n    }\n\n    .dataframe tbody tr th {\n        vertical-align: top;\n    }\n\n    .dataframe thead th {\n        text-align: right;\n    }\n</style>\n<table border=\"1\" class=\"dataframe\">\n  <thead>\n    <tr style=\"text-align: right;\">\n      <th></th>\n      <th>email</th>\n      <th>first</th>\n      <th>last</th>\n    </tr>\n  </thead>\n  <tbody>\n    <tr>\n      <th>0</th>\n      <td>nathan@baboo.com</td>\n      <td>Nathan</td>\n      <td>Schafer</td>\n    </tr>\n    <tr>\n      <th>1</th>\n      <td>baboo@postman.com</td>\n      <td>Babo</td>\n      <td>Namboori</td>\n    </tr>\n    <tr>\n      <th>2</th>\n      <td>JohnDoe@email.com</td>\n      <td>John</td>\n      <td>Doe</td>\n    </tr>\n  </tbody>\n</table>\n</div>"
     },
     "metadata": {},
     "execution_count": 178
    }
   ],
   "source": [
    "people_df"
   ]
  },
  {
   "cell_type": "code",
   "execution_count": 183,
   "metadata": {},
   "outputs": [],
   "source": [
    "# change valuw without using indexers\n",
    "# when there is a large dataset \n",
    "filt = (people_df['email'] == 'JohnDoe@email.com')\n",
    "people_df[filt]['last'] = 'smith' \n",
    "# the above method doesnot work \"returning a view vs copy\""
   ]
  },
  {
   "cell_type": "code",
   "execution_count": 184,
   "metadata": {},
   "outputs": [
    {
     "output_type": "execute_result",
     "data": {
      "text/plain": "               email   first      last\n0   nathan@baboo.com  Nathan   Schafer\n1  baboo@postman.com    Babo  Namboori\n2  JohnDoe@email.com    John       Doe",
      "text/html": "<div>\n<style scoped>\n    .dataframe tbody tr th:only-of-type {\n        vertical-align: middle;\n    }\n\n    .dataframe tbody tr th {\n        vertical-align: top;\n    }\n\n    .dataframe thead th {\n        text-align: right;\n    }\n</style>\n<table border=\"1\" class=\"dataframe\">\n  <thead>\n    <tr style=\"text-align: right;\">\n      <th></th>\n      <th>email</th>\n      <th>first</th>\n      <th>last</th>\n    </tr>\n  </thead>\n  <tbody>\n    <tr>\n      <th>0</th>\n      <td>nathan@baboo.com</td>\n      <td>Nathan</td>\n      <td>Schafer</td>\n    </tr>\n    <tr>\n      <th>1</th>\n      <td>baboo@postman.com</td>\n      <td>Babo</td>\n      <td>Namboori</td>\n    </tr>\n    <tr>\n      <th>2</th>\n      <td>JohnDoe@email.com</td>\n      <td>John</td>\n      <td>Doe</td>\n    </tr>\n  </tbody>\n</table>\n</div>"
     },
     "metadata": {},
     "execution_count": 184
    }
   ],
   "source": [
    "people_df"
   ]
  },
  {
   "cell_type": "code",
   "execution_count": 186,
   "metadata": {},
   "outputs": [
    {
     "output_type": "execute_result",
     "data": {
      "text/plain": "0     nathan@baboo.com\n1    baboo@postman.com\n2    johndoe@email.com\nName: email, dtype: object"
     },
     "metadata": {},
     "execution_count": 186
    }
   ],
   "source": [
    "# update multiple rows\n",
    "people_df['email'].str.lower()"
   ]
  },
  {
   "cell_type": "code",
   "execution_count": 187,
   "metadata": {},
   "outputs": [],
   "source": [
    "# to assign the value to the dataframe\n",
    "people_df['email'] =people_df['email'].str.lower()"
   ]
  },
  {
   "cell_type": "code",
   "execution_count": 188,
   "metadata": {},
   "outputs": [
    {
     "output_type": "execute_result",
     "data": {
      "text/plain": "               email   first      last\n0   nathan@baboo.com  Nathan   Schafer\n1  baboo@postman.com    Babo  Namboori\n2  johndoe@email.com    John       Doe",
      "text/html": "<div>\n<style scoped>\n    .dataframe tbody tr th:only-of-type {\n        vertical-align: middle;\n    }\n\n    .dataframe tbody tr th {\n        vertical-align: top;\n    }\n\n    .dataframe thead th {\n        text-align: right;\n    }\n</style>\n<table border=\"1\" class=\"dataframe\">\n  <thead>\n    <tr style=\"text-align: right;\">\n      <th></th>\n      <th>email</th>\n      <th>first</th>\n      <th>last</th>\n    </tr>\n  </thead>\n  <tbody>\n    <tr>\n      <th>0</th>\n      <td>nathan@baboo.com</td>\n      <td>Nathan</td>\n      <td>Schafer</td>\n    </tr>\n    <tr>\n      <th>1</th>\n      <td>baboo@postman.com</td>\n      <td>Babo</td>\n      <td>Namboori</td>\n    </tr>\n    <tr>\n      <th>2</th>\n      <td>johndoe@email.com</td>\n      <td>John</td>\n      <td>Doe</td>\n    </tr>\n  </tbody>\n</table>\n</div>"
     },
     "metadata": {},
     "execution_count": 188
    }
   ],
   "source": [
    "people_df"
   ]
  },
  {
   "cell_type": "code",
   "execution_count": null,
   "metadata": {},
   "outputs": [],
   "source": [
    "# there are four methods to replace - apply, map, applymap, replace\n"
   ]
  },
  {
   "cell_type": "code",
   "execution_count": null,
   "metadata": {},
   "outputs": [],
   "source": [
    "#Apply is used for calling a function on our values\n",
    "# apply can work on either dataframe or series object\n"
   ]
  },
  {
   "cell_type": "code",
   "execution_count": 190,
   "metadata": {},
   "outputs": [
    {
     "output_type": "execute_result",
     "data": {
      "text/plain": "0    16\n1    17\n2    17\nName: email, dtype: int64"
     },
     "metadata": {},
     "execution_count": 190
    }
   ],
   "source": [
    "#apply on series\n",
    "people_df['email'].apply(len)"
   ]
  },
  {
   "cell_type": "code",
   "execution_count": 191,
   "metadata": {},
   "outputs": [],
   "source": [
    "def update_email(email):\n",
    "    return email.upper()"
   ]
  },
  {
   "cell_type": "code",
   "execution_count": 192,
   "metadata": {},
   "outputs": [
    {
     "output_type": "execute_result",
     "data": {
      "text/plain": "0     NATHAN@BABOO.COM\n1    BABOO@POSTMAN.COM\n2    JOHNDOE@EMAIL.COM\nName: email, dtype: object"
     },
     "metadata": {},
     "execution_count": 192
    }
   ],
   "source": [
    "people_df['email'].apply(update_email)"
   ]
  },
  {
   "cell_type": "code",
   "execution_count": 193,
   "metadata": {},
   "outputs": [],
   "source": [
    "people_df['email'] = people_df['email'].apply(update_email)"
   ]
  },
  {
   "cell_type": "code",
   "execution_count": 194,
   "metadata": {},
   "outputs": [
    {
     "output_type": "execute_result",
     "data": {
      "text/plain": "               email   first      last\n0   NATHAN@BABOO.COM  Nathan   Schafer\n1  BABOO@POSTMAN.COM    Babo  Namboori\n2  JOHNDOE@EMAIL.COM    John       Doe",
      "text/html": "<div>\n<style scoped>\n    .dataframe tbody tr th:only-of-type {\n        vertical-align: middle;\n    }\n\n    .dataframe tbody tr th {\n        vertical-align: top;\n    }\n\n    .dataframe thead th {\n        text-align: right;\n    }\n</style>\n<table border=\"1\" class=\"dataframe\">\n  <thead>\n    <tr style=\"text-align: right;\">\n      <th></th>\n      <th>email</th>\n      <th>first</th>\n      <th>last</th>\n    </tr>\n  </thead>\n  <tbody>\n    <tr>\n      <th>0</th>\n      <td>NATHAN@BABOO.COM</td>\n      <td>Nathan</td>\n      <td>Schafer</td>\n    </tr>\n    <tr>\n      <th>1</th>\n      <td>BABOO@POSTMAN.COM</td>\n      <td>Babo</td>\n      <td>Namboori</td>\n    </tr>\n    <tr>\n      <th>2</th>\n      <td>JOHNDOE@EMAIL.COM</td>\n      <td>John</td>\n      <td>Doe</td>\n    </tr>\n  </tbody>\n</table>\n</div>"
     },
     "metadata": {},
     "execution_count": 194
    }
   ],
   "source": [
    "people_df"
   ]
  },
  {
   "cell_type": "code",
   "execution_count": 195,
   "metadata": {},
   "outputs": [],
   "source": [
    "# we can use lambda function to do the same thing\n",
    "people_df['email'] = people_df['email'].apply(lambda x: x.lower())"
   ]
  },
  {
   "cell_type": "code",
   "execution_count": 196,
   "metadata": {},
   "outputs": [
    {
     "output_type": "execute_result",
     "data": {
      "text/plain": "               email   first      last\n0   nathan@baboo.com  Nathan   Schafer\n1  baboo@postman.com    Babo  Namboori\n2  johndoe@email.com    John       Doe",
      "text/html": "<div>\n<style scoped>\n    .dataframe tbody tr th:only-of-type {\n        vertical-align: middle;\n    }\n\n    .dataframe tbody tr th {\n        vertical-align: top;\n    }\n\n    .dataframe thead th {\n        text-align: right;\n    }\n</style>\n<table border=\"1\" class=\"dataframe\">\n  <thead>\n    <tr style=\"text-align: right;\">\n      <th></th>\n      <th>email</th>\n      <th>first</th>\n      <th>last</th>\n    </tr>\n  </thead>\n  <tbody>\n    <tr>\n      <th>0</th>\n      <td>nathan@baboo.com</td>\n      <td>Nathan</td>\n      <td>Schafer</td>\n    </tr>\n    <tr>\n      <th>1</th>\n      <td>baboo@postman.com</td>\n      <td>Babo</td>\n      <td>Namboori</td>\n    </tr>\n    <tr>\n      <th>2</th>\n      <td>johndoe@email.com</td>\n      <td>John</td>\n      <td>Doe</td>\n    </tr>\n  </tbody>\n</table>\n</div>"
     },
     "metadata": {},
     "execution_count": 196
    }
   ],
   "source": [
    "people_df"
   ]
  },
  {
   "cell_type": "code",
   "execution_count": 197,
   "metadata": {},
   "outputs": [
    {
     "output_type": "execute_result",
     "data": {
      "text/plain": "0    16\n1    17\n2    17\nName: email, dtype: int64"
     },
     "metadata": {},
     "execution_count": 197
    }
   ],
   "source": [
    "# apply on dataframe\n",
    "people_df['email'].apply(len)"
   ]
  },
  {
   "cell_type": "code",
   "execution_count": 198,
   "metadata": {},
   "outputs": [
    {
     "output_type": "execute_result",
     "data": {
      "text/plain": "email    3\nfirst    3\nlast     3\ndtype: int64"
     },
     "metadata": {},
     "execution_count": 198
    }
   ],
   "source": [
    "people_df.apply(len)\n",
    "# this is applying the length function to each series in the dataframe\n",
    "#specifically the columns"
   ]
  },
  {
   "cell_type": "code",
   "execution_count": 200,
   "metadata": {},
   "outputs": [
    {
     "output_type": "execute_result",
     "data": {
      "text/plain": "3"
     },
     "metadata": {},
     "execution_count": 200
    }
   ],
   "source": [
    "len(people_df['email'])"
   ]
  },
  {
   "cell_type": "code",
   "execution_count": 201,
   "metadata": {},
   "outputs": [
    {
     "output_type": "execute_result",
     "data": {
      "text/plain": "0    3\n1    3\n2    3\ndtype: int64"
     },
     "metadata": {},
     "execution_count": 201
    }
   ],
   "source": [
    "# to count row wise\n",
    "people_df.apply(len, axis = 'columns')"
   ]
  },
  {
   "cell_type": "code",
   "execution_count": 202,
   "metadata": {},
   "outputs": [
    {
     "output_type": "execute_result",
     "data": {
      "text/plain": "email    baboo@postman.com\nfirst                 Babo\nlast                   Doe\ndtype: object"
     },
     "metadata": {},
     "execution_count": 202
    }
   ],
   "source": [
    "#we want to use functions to be used on a series object, when using apply on an entire dataframe\n",
    "# minimum values of each column\n",
    "people_df.apply(pd.Series.min)"
   ]
  },
  {
   "cell_type": "code",
   "execution_count": 205,
   "metadata": {},
   "outputs": [
    {
     "output_type": "execute_result",
     "data": {
      "text/plain": "email    baboo@postman.com\nfirst                 Babo\nlast                   Doe\ndtype: object"
     },
     "metadata": {},
     "execution_count": 205
    }
   ],
   "source": [
    "people_df.apply(lambda x: x.min())"
   ]
  },
  {
   "cell_type": "code",
   "execution_count": 206,
   "metadata": {},
   "outputs": [
    {
     "output_type": "execute_result",
     "data": {
      "text/plain": "   email  first  last\n0     16      6     7\n1     17      4     8\n2     17      4     3",
      "text/html": "<div>\n<style scoped>\n    .dataframe tbody tr th:only-of-type {\n        vertical-align: middle;\n    }\n\n    .dataframe tbody tr th {\n        vertical-align: top;\n    }\n\n    .dataframe thead th {\n        text-align: right;\n    }\n</style>\n<table border=\"1\" class=\"dataframe\">\n  <thead>\n    <tr style=\"text-align: right;\">\n      <th></th>\n      <th>email</th>\n      <th>first</th>\n      <th>last</th>\n    </tr>\n  </thead>\n  <tbody>\n    <tr>\n      <th>0</th>\n      <td>16</td>\n      <td>6</td>\n      <td>7</td>\n    </tr>\n    <tr>\n      <th>1</th>\n      <td>17</td>\n      <td>4</td>\n      <td>8</td>\n    </tr>\n    <tr>\n      <th>2</th>\n      <td>17</td>\n      <td>4</td>\n      <td>3</td>\n    </tr>\n  </tbody>\n</table>\n</div>"
     },
     "metadata": {},
     "execution_count": 206
    }
   ],
   "source": [
    "# for example square root for new numerical methods can also be used\n",
    "#apply a function to every record in the dataframe \n",
    "# for this we use applymap\n",
    "#applymap works only on dataframes\n",
    "people_df.applymap(len)"
   ]
  },
  {
   "cell_type": "code",
   "execution_count": 207,
   "metadata": {},
   "outputs": [
    {
     "output_type": "execute_result",
     "data": {
      "text/plain": "               email   first      last\n0   nathan@baboo.com  Nathan   Schafer\n1  baboo@postman.com    Babo  Namboori\n2  johndoe@email.com    John       Doe",
      "text/html": "<div>\n<style scoped>\n    .dataframe tbody tr th:only-of-type {\n        vertical-align: middle;\n    }\n\n    .dataframe tbody tr th {\n        vertical-align: top;\n    }\n\n    .dataframe thead th {\n        text-align: right;\n    }\n</style>\n<table border=\"1\" class=\"dataframe\">\n  <thead>\n    <tr style=\"text-align: right;\">\n      <th></th>\n      <th>email</th>\n      <th>first</th>\n      <th>last</th>\n    </tr>\n  </thead>\n  <tbody>\n    <tr>\n      <th>0</th>\n      <td>nathan@baboo.com</td>\n      <td>Nathan</td>\n      <td>Schafer</td>\n    </tr>\n    <tr>\n      <th>1</th>\n      <td>baboo@postman.com</td>\n      <td>Babo</td>\n      <td>Namboori</td>\n    </tr>\n    <tr>\n      <th>2</th>\n      <td>johndoe@email.com</td>\n      <td>John</td>\n      <td>Doe</td>\n    </tr>\n  </tbody>\n</table>\n</div>"
     },
     "metadata": {},
     "execution_count": 207
    }
   ],
   "source": [
    "people_df"
   ]
  },
  {
   "cell_type": "code",
   "execution_count": 209,
   "metadata": {},
   "outputs": [
    {
     "output_type": "execute_result",
     "data": {
      "text/plain": "0      NaN\n1    Chris\n2      Hoe\nName: first, dtype: object"
     },
     "metadata": {},
     "execution_count": 209
    }
   ],
   "source": [
    "# map method only works in series\n",
    "people_df['first'].map({'Babo': 'Chris', 'John': 'Hoe'})"
   ]
  },
  {
   "cell_type": "code",
   "execution_count": 210,
   "metadata": {},
   "outputs": [
    {
     "output_type": "execute_result",
     "data": {
      "text/plain": "0    Nathan\n1     Chris\n2       Hoe\nName: first, dtype: object"
     },
     "metadata": {},
     "execution_count": 210
    }
   ],
   "source": [
    "#replace doesnot change values to NaN\n",
    "people_df['first'].replace({'Babo': 'Chris', 'John': 'Hoe'})"
   ]
  },
  {
   "cell_type": "code",
   "execution_count": 211,
   "metadata": {},
   "outputs": [
    {
     "output_type": "execute_result",
     "data": {
      "text/plain": "               email   first      last\n0   nathan@baboo.com  Nathan   Schafer\n1  baboo@postman.com    Babo  Namboori\n2  johndoe@email.com    John       Doe",
      "text/html": "<div>\n<style scoped>\n    .dataframe tbody tr th:only-of-type {\n        vertical-align: middle;\n    }\n\n    .dataframe tbody tr th {\n        vertical-align: top;\n    }\n\n    .dataframe thead th {\n        text-align: right;\n    }\n</style>\n<table border=\"1\" class=\"dataframe\">\n  <thead>\n    <tr style=\"text-align: right;\">\n      <th></th>\n      <th>email</th>\n      <th>first</th>\n      <th>last</th>\n    </tr>\n  </thead>\n  <tbody>\n    <tr>\n      <th>0</th>\n      <td>nathan@baboo.com</td>\n      <td>Nathan</td>\n      <td>Schafer</td>\n    </tr>\n    <tr>\n      <th>1</th>\n      <td>baboo@postman.com</td>\n      <td>Babo</td>\n      <td>Namboori</td>\n    </tr>\n    <tr>\n      <th>2</th>\n      <td>johndoe@email.com</td>\n      <td>John</td>\n      <td>Doe</td>\n    </tr>\n  </tbody>\n</table>\n</div>"
     },
     "metadata": {},
     "execution_count": 211
    }
   ],
   "source": [
    "# ADD/REMOVe rows and columns from dataframes\n",
    "people_df"
   ]
  },
  {
   "cell_type": "code",
   "execution_count": 213,
   "metadata": {},
   "outputs": [
    {
     "output_type": "execute_result",
     "data": {
      "text/plain": "0    Nathan Schafer\n1     Babo Namboori\n2          John Doe\ndtype: object"
     },
     "metadata": {},
     "execution_count": 213
    }
   ],
   "source": [
    "people_df['first'] + ' ' + people_df['last']"
   ]
  },
  {
   "cell_type": "code",
   "execution_count": 214,
   "metadata": {},
   "outputs": [],
   "source": [
    "people_df['full_name'] = people_df['first'] + ' ' + people_df['last']"
   ]
  },
  {
   "cell_type": "code",
   "execution_count": 215,
   "metadata": {},
   "outputs": [
    {
     "output_type": "execute_result",
     "data": {
      "text/plain": "               email   first      last       full_name\n0   nathan@baboo.com  Nathan   Schafer  Nathan Schafer\n1  baboo@postman.com    Babo  Namboori   Babo Namboori\n2  johndoe@email.com    John       Doe        John Doe",
      "text/html": "<div>\n<style scoped>\n    .dataframe tbody tr th:only-of-type {\n        vertical-align: middle;\n    }\n\n    .dataframe tbody tr th {\n        vertical-align: top;\n    }\n\n    .dataframe thead th {\n        text-align: right;\n    }\n</style>\n<table border=\"1\" class=\"dataframe\">\n  <thead>\n    <tr style=\"text-align: right;\">\n      <th></th>\n      <th>email</th>\n      <th>first</th>\n      <th>last</th>\n      <th>full_name</th>\n    </tr>\n  </thead>\n  <tbody>\n    <tr>\n      <th>0</th>\n      <td>nathan@baboo.com</td>\n      <td>Nathan</td>\n      <td>Schafer</td>\n      <td>Nathan Schafer</td>\n    </tr>\n    <tr>\n      <th>1</th>\n      <td>baboo@postman.com</td>\n      <td>Babo</td>\n      <td>Namboori</td>\n      <td>Babo Namboori</td>\n    </tr>\n    <tr>\n      <th>2</th>\n      <td>johndoe@email.com</td>\n      <td>John</td>\n      <td>Doe</td>\n      <td>John Doe</td>\n    </tr>\n  </tbody>\n</table>\n</div>"
     },
     "metadata": {},
     "execution_count": 215
    }
   ],
   "source": [
    "people_df"
   ]
  },
  {
   "cell_type": "code",
   "execution_count": 218,
   "metadata": {},
   "outputs": [
    {
     "output_type": "execute_result",
     "data": {
      "text/plain": "               email   first      last       full_name\n0   nathan@baboo.com  Nathan   Schafer  Nathan Schafer\n1  baboo@postman.com    Babo  Namboori   Babo Namboori\n2  johndoe@email.com    John       Doe        John Doe",
      "text/html": "<div>\n<style scoped>\n    .dataframe tbody tr th:only-of-type {\n        vertical-align: middle;\n    }\n\n    .dataframe tbody tr th {\n        vertical-align: top;\n    }\n\n    .dataframe thead th {\n        text-align: right;\n    }\n</style>\n<table border=\"1\" class=\"dataframe\">\n  <thead>\n    <tr style=\"text-align: right;\">\n      <th></th>\n      <th>email</th>\n      <th>first</th>\n      <th>last</th>\n      <th>full_name</th>\n    </tr>\n  </thead>\n  <tbody>\n    <tr>\n      <th>0</th>\n      <td>nathan@baboo.com</td>\n      <td>Nathan</td>\n      <td>Schafer</td>\n      <td>Nathan Schafer</td>\n    </tr>\n    <tr>\n      <th>1</th>\n      <td>baboo@postman.com</td>\n      <td>Babo</td>\n      <td>Namboori</td>\n      <td>Babo Namboori</td>\n    </tr>\n    <tr>\n      <th>2</th>\n      <td>johndoe@email.com</td>\n      <td>John</td>\n      <td>Doe</td>\n      <td>John Doe</td>\n    </tr>\n  </tbody>\n</table>\n</div>"
     },
     "metadata": {},
     "execution_count": 218
    }
   ],
   "source": [
    "people_df.drop(columns = ['first', 'last'])\n",
    "people_df\n",
    "#DOESNT WORK possibly because inplace = True is not passed\n"
   ]
  },
  {
   "cell_type": "code",
   "execution_count": 220,
   "metadata": {},
   "outputs": [
    {
     "output_type": "execute_result",
     "data": {
      "text/plain": "0     [nathan, baboo.com]\n1    [baboo, postman.com]\n2    [johndoe, email.com]\nName: email, dtype: object"
     },
     "metadata": {},
     "execution_count": 220
    }
   ],
   "source": [
    "people_df['email'].str.split('@')\n",
    "# result is the 2 values in  a list"
   ]
  },
  {
   "cell_type": "code",
   "execution_count": 221,
   "metadata": {},
   "outputs": [
    {
     "output_type": "execute_result",
     "data": {
      "text/plain": "         0            1\n0   nathan    baboo.com\n1    baboo  postman.com\n2  johndoe    email.com",
      "text/html": "<div>\n<style scoped>\n    .dataframe tbody tr th:only-of-type {\n        vertical-align: middle;\n    }\n\n    .dataframe tbody tr th {\n        vertical-align: top;\n    }\n\n    .dataframe thead th {\n        text-align: right;\n    }\n</style>\n<table border=\"1\" class=\"dataframe\">\n  <thead>\n    <tr style=\"text-align: right;\">\n      <th></th>\n      <th>0</th>\n      <th>1</th>\n    </tr>\n  </thead>\n  <tbody>\n    <tr>\n      <th>0</th>\n      <td>nathan</td>\n      <td>baboo.com</td>\n    </tr>\n    <tr>\n      <th>1</th>\n      <td>baboo</td>\n      <td>postman.com</td>\n    </tr>\n    <tr>\n      <th>2</th>\n      <td>johndoe</td>\n      <td>email.com</td>\n    </tr>\n  </tbody>\n</table>\n</div>"
     },
     "metadata": {},
     "execution_count": 221
    }
   ],
   "source": [
    "# to assign this to two columns\n",
    "people_df['email'].str.split('@', expand = True)"
   ]
  },
  {
   "cell_type": "code",
   "execution_count": 223,
   "metadata": {},
   "outputs": [],
   "source": [
    "people_df[['username', 'domain']] = people_df['email'].str.split('@', expand = True)"
   ]
  },
  {
   "cell_type": "code",
   "execution_count": 224,
   "metadata": {},
   "outputs": [
    {
     "output_type": "execute_result",
     "data": {
      "text/plain": "               email   first      last       full_name username       domain\n0   nathan@baboo.com  Nathan   Schafer  Nathan Schafer   nathan    baboo.com\n1  baboo@postman.com    Babo  Namboori   Babo Namboori    baboo  postman.com\n2  johndoe@email.com    John       Doe        John Doe  johndoe    email.com",
      "text/html": "<div>\n<style scoped>\n    .dataframe tbody tr th:only-of-type {\n        vertical-align: middle;\n    }\n\n    .dataframe tbody tr th {\n        vertical-align: top;\n    }\n\n    .dataframe thead th {\n        text-align: right;\n    }\n</style>\n<table border=\"1\" class=\"dataframe\">\n  <thead>\n    <tr style=\"text-align: right;\">\n      <th></th>\n      <th>email</th>\n      <th>first</th>\n      <th>last</th>\n      <th>full_name</th>\n      <th>username</th>\n      <th>domain</th>\n    </tr>\n  </thead>\n  <tbody>\n    <tr>\n      <th>0</th>\n      <td>nathan@baboo.com</td>\n      <td>Nathan</td>\n      <td>Schafer</td>\n      <td>Nathan Schafer</td>\n      <td>nathan</td>\n      <td>baboo.com</td>\n    </tr>\n    <tr>\n      <th>1</th>\n      <td>baboo@postman.com</td>\n      <td>Babo</td>\n      <td>Namboori</td>\n      <td>Babo Namboori</td>\n      <td>baboo</td>\n      <td>postman.com</td>\n    </tr>\n    <tr>\n      <th>2</th>\n      <td>johndoe@email.com</td>\n      <td>John</td>\n      <td>Doe</td>\n      <td>John Doe</td>\n      <td>johndoe</td>\n      <td>email.com</td>\n    </tr>\n  </tbody>\n</table>\n</div>"
     },
     "metadata": {},
     "execution_count": 224
    }
   ],
   "source": [
    "people_df\n"
   ]
  },
  {
   "cell_type": "code",
   "execution_count": 225,
   "metadata": {},
   "outputs": [
    {
     "output_type": "execute_result",
     "data": {
      "text/plain": "               email   first      last       full_name username       domain\n0   nathan@baboo.com  Nathan   Schafer  Nathan Schafer   nathan    baboo.com\n1  baboo@postman.com    Babo  Namboori   Babo Namboori    baboo  postman.com\n2  johndoe@email.com    John       Doe        John Doe  johndoe    email.com\n3                NaN    Tony       NaN             NaN      NaN          NaN",
      "text/html": "<div>\n<style scoped>\n    .dataframe tbody tr th:only-of-type {\n        vertical-align: middle;\n    }\n\n    .dataframe tbody tr th {\n        vertical-align: top;\n    }\n\n    .dataframe thead th {\n        text-align: right;\n    }\n</style>\n<table border=\"1\" class=\"dataframe\">\n  <thead>\n    <tr style=\"text-align: right;\">\n      <th></th>\n      <th>email</th>\n      <th>first</th>\n      <th>last</th>\n      <th>full_name</th>\n      <th>username</th>\n      <th>domain</th>\n    </tr>\n  </thead>\n  <tbody>\n    <tr>\n      <th>0</th>\n      <td>nathan@baboo.com</td>\n      <td>Nathan</td>\n      <td>Schafer</td>\n      <td>Nathan Schafer</td>\n      <td>nathan</td>\n      <td>baboo.com</td>\n    </tr>\n    <tr>\n      <th>1</th>\n      <td>baboo@postman.com</td>\n      <td>Babo</td>\n      <td>Namboori</td>\n      <td>Babo Namboori</td>\n      <td>baboo</td>\n      <td>postman.com</td>\n    </tr>\n    <tr>\n      <th>2</th>\n      <td>johndoe@email.com</td>\n      <td>John</td>\n      <td>Doe</td>\n      <td>John Doe</td>\n      <td>johndoe</td>\n      <td>email.com</td>\n    </tr>\n    <tr>\n      <th>3</th>\n      <td>NaN</td>\n      <td>Tony</td>\n      <td>NaN</td>\n      <td>NaN</td>\n      <td>NaN</td>\n      <td>NaN</td>\n    </tr>\n  </tbody>\n</table>\n</div>"
     },
     "metadata": {},
     "execution_count": 225
    }
   ],
   "source": [
    "## adding and removing columns\n",
    "# add a single row to a dataframe\n",
    "people_df.append({'first': 'Tony'}, ignore_index= True)"
   ]
  },
  {
   "cell_type": "code",
   "execution_count": 226,
   "metadata": {},
   "outputs": [
    {
     "output_type": "execute_result",
     "data": {
      "text/plain": "               email   first      last       full_name username       domain\n0   nathan@baboo.com  Nathan   Schafer  Nathan Schafer   nathan    baboo.com\n1  baboo@postman.com    Babo  Namboori   Babo Namboori    baboo  postman.com\n2  johndoe@email.com    John       Doe        John Doe  johndoe    email.com",
      "text/html": "<div>\n<style scoped>\n    .dataframe tbody tr th:only-of-type {\n        vertical-align: middle;\n    }\n\n    .dataframe tbody tr th {\n        vertical-align: top;\n    }\n\n    .dataframe thead th {\n        text-align: right;\n    }\n</style>\n<table border=\"1\" class=\"dataframe\">\n  <thead>\n    <tr style=\"text-align: right;\">\n      <th></th>\n      <th>email</th>\n      <th>first</th>\n      <th>last</th>\n      <th>full_name</th>\n      <th>username</th>\n      <th>domain</th>\n    </tr>\n  </thead>\n  <tbody>\n    <tr>\n      <th>0</th>\n      <td>nathan@baboo.com</td>\n      <td>Nathan</td>\n      <td>Schafer</td>\n      <td>Nathan Schafer</td>\n      <td>nathan</td>\n      <td>baboo.com</td>\n    </tr>\n    <tr>\n      <th>1</th>\n      <td>baboo@postman.com</td>\n      <td>Babo</td>\n      <td>Namboori</td>\n      <td>Babo Namboori</td>\n      <td>baboo</td>\n      <td>postman.com</td>\n    </tr>\n    <tr>\n      <th>2</th>\n      <td>johndoe@email.com</td>\n      <td>John</td>\n      <td>Doe</td>\n      <td>John Doe</td>\n      <td>johndoe</td>\n      <td>email.com</td>\n    </tr>\n  </tbody>\n</table>\n</div>"
     },
     "metadata": {},
     "execution_count": 226
    }
   ],
   "source": [
    "people_df"
   ]
  },
  {
   "cell_type": "code",
   "execution_count": 227,
   "metadata": {},
   "outputs": [],
   "source": [
    "people = {\n",
    "    \"first\": [\"Tony\", \"Steve\"],\n",
    "    \"last\": [\"Stark\", \"Rogers\"],\n",
    "    \"email\": [\"tonys@baboo.com\", \"steve@gmail.com\"]\n",
    "}"
   ]
  },
  {
   "cell_type": "code",
   "execution_count": 228,
   "metadata": {},
   "outputs": [],
   "source": [
    "df2 = pd.DataFrame(people)"
   ]
  },
  {
   "cell_type": "code",
   "execution_count": 230,
   "metadata": {},
   "outputs": [
    {
     "output_type": "execute_result",
     "data": {
      "text/plain": "   first    last            email\n0   Tony   Stark  tonys@baboo.com\n1  Steve  Rogers  steve@gmail.com",
      "text/html": "<div>\n<style scoped>\n    .dataframe tbody tr th:only-of-type {\n        vertical-align: middle;\n    }\n\n    .dataframe tbody tr th {\n        vertical-align: top;\n    }\n\n    .dataframe thead th {\n        text-align: right;\n    }\n</style>\n<table border=\"1\" class=\"dataframe\">\n  <thead>\n    <tr style=\"text-align: right;\">\n      <th></th>\n      <th>first</th>\n      <th>last</th>\n      <th>email</th>\n    </tr>\n  </thead>\n  <tbody>\n    <tr>\n      <th>0</th>\n      <td>Tony</td>\n      <td>Stark</td>\n      <td>tonys@baboo.com</td>\n    </tr>\n    <tr>\n      <th>1</th>\n      <td>Steve</td>\n      <td>Rogers</td>\n      <td>steve@gmail.com</td>\n    </tr>\n  </tbody>\n</table>\n</div>"
     },
     "metadata": {},
     "execution_count": 230
    }
   ],
   "source": [
    "df2"
   ]
  },
  {
   "cell_type": "code",
   "execution_count": 236,
   "metadata": {},
   "outputs": [],
   "source": [
    "people_df = people_df.append(df2, ignore_index=True)"
   ]
  },
  {
   "cell_type": "code",
   "execution_count": 237,
   "metadata": {},
   "outputs": [
    {
     "output_type": "execute_result",
     "data": {
      "text/plain": "               email   first      last       full_name username       domain\n0   nathan@baboo.com  Nathan   Schafer  Nathan Schafer   nathan    baboo.com\n1  baboo@postman.com    Babo  Namboori   Babo Namboori    baboo  postman.com\n2  johndoe@email.com    John       Doe        John Doe  johndoe    email.com\n3    tonys@baboo.com    Tony     Stark             NaN      NaN          NaN\n4    steve@gmail.com   Steve    Rogers             NaN      NaN          NaN",
      "text/html": "<div>\n<style scoped>\n    .dataframe tbody tr th:only-of-type {\n        vertical-align: middle;\n    }\n\n    .dataframe tbody tr th {\n        vertical-align: top;\n    }\n\n    .dataframe thead th {\n        text-align: right;\n    }\n</style>\n<table border=\"1\" class=\"dataframe\">\n  <thead>\n    <tr style=\"text-align: right;\">\n      <th></th>\n      <th>email</th>\n      <th>first</th>\n      <th>last</th>\n      <th>full_name</th>\n      <th>username</th>\n      <th>domain</th>\n    </tr>\n  </thead>\n  <tbody>\n    <tr>\n      <th>0</th>\n      <td>nathan@baboo.com</td>\n      <td>Nathan</td>\n      <td>Schafer</td>\n      <td>Nathan Schafer</td>\n      <td>nathan</td>\n      <td>baboo.com</td>\n    </tr>\n    <tr>\n      <th>1</th>\n      <td>baboo@postman.com</td>\n      <td>Babo</td>\n      <td>Namboori</td>\n      <td>Babo Namboori</td>\n      <td>baboo</td>\n      <td>postman.com</td>\n    </tr>\n    <tr>\n      <th>2</th>\n      <td>johndoe@email.com</td>\n      <td>John</td>\n      <td>Doe</td>\n      <td>John Doe</td>\n      <td>johndoe</td>\n      <td>email.com</td>\n    </tr>\n    <tr>\n      <th>3</th>\n      <td>tonys@baboo.com</td>\n      <td>Tony</td>\n      <td>Stark</td>\n      <td>NaN</td>\n      <td>NaN</td>\n      <td>NaN</td>\n    </tr>\n    <tr>\n      <th>4</th>\n      <td>steve@gmail.com</td>\n      <td>Steve</td>\n      <td>Rogers</td>\n      <td>NaN</td>\n      <td>NaN</td>\n      <td>NaN</td>\n    </tr>\n  </tbody>\n</table>\n</div>"
     },
     "metadata": {},
     "execution_count": 237
    }
   ],
   "source": [
    "people_df"
   ]
  },
  {
   "cell_type": "code",
   "execution_count": 238,
   "metadata": {},
   "outputs": [
    {
     "output_type": "execute_result",
     "data": {
      "text/plain": "               email   first      last       full_name username       domain\n0   nathan@baboo.com  Nathan   Schafer  Nathan Schafer   nathan    baboo.com\n1  baboo@postman.com    Babo  Namboori   Babo Namboori    baboo  postman.com\n2  johndoe@email.com    John       Doe        John Doe  johndoe    email.com\n3    tonys@baboo.com    Tony     Stark             NaN      NaN          NaN",
      "text/html": "<div>\n<style scoped>\n    .dataframe tbody tr th:only-of-type {\n        vertical-align: middle;\n    }\n\n    .dataframe tbody tr th {\n        vertical-align: top;\n    }\n\n    .dataframe thead th {\n        text-align: right;\n    }\n</style>\n<table border=\"1\" class=\"dataframe\">\n  <thead>\n    <tr style=\"text-align: right;\">\n      <th></th>\n      <th>email</th>\n      <th>first</th>\n      <th>last</th>\n      <th>full_name</th>\n      <th>username</th>\n      <th>domain</th>\n    </tr>\n  </thead>\n  <tbody>\n    <tr>\n      <th>0</th>\n      <td>nathan@baboo.com</td>\n      <td>Nathan</td>\n      <td>Schafer</td>\n      <td>Nathan Schafer</td>\n      <td>nathan</td>\n      <td>baboo.com</td>\n    </tr>\n    <tr>\n      <th>1</th>\n      <td>baboo@postman.com</td>\n      <td>Babo</td>\n      <td>Namboori</td>\n      <td>Babo Namboori</td>\n      <td>baboo</td>\n      <td>postman.com</td>\n    </tr>\n    <tr>\n      <th>2</th>\n      <td>johndoe@email.com</td>\n      <td>John</td>\n      <td>Doe</td>\n      <td>John Doe</td>\n      <td>johndoe</td>\n      <td>email.com</td>\n    </tr>\n    <tr>\n      <th>3</th>\n      <td>tonys@baboo.com</td>\n      <td>Tony</td>\n      <td>Stark</td>\n      <td>NaN</td>\n      <td>NaN</td>\n      <td>NaN</td>\n    </tr>\n  </tbody>\n</table>\n</div>"
     },
     "metadata": {},
     "execution_count": 238
    }
   ],
   "source": [
    "people_df.drop(index=4)"
   ]
  },
  {
   "cell_type": "code",
   "execution_count": 239,
   "metadata": {},
   "outputs": [
    {
     "output_type": "execute_result",
     "data": {
      "text/plain": "               email   first      last       full_name username       domain\n0   nathan@baboo.com  Nathan   Schafer  Nathan Schafer   nathan    baboo.com\n1  baboo@postman.com    Babo  Namboori   Babo Namboori    baboo  postman.com\n2  johndoe@email.com    John       Doe        John Doe  johndoe    email.com\n3    tonys@baboo.com    Tony     Stark             NaN      NaN          NaN\n4    steve@gmail.com   Steve    Rogers             NaN      NaN          NaN",
      "text/html": "<div>\n<style scoped>\n    .dataframe tbody tr th:only-of-type {\n        vertical-align: middle;\n    }\n\n    .dataframe tbody tr th {\n        vertical-align: top;\n    }\n\n    .dataframe thead th {\n        text-align: right;\n    }\n</style>\n<table border=\"1\" class=\"dataframe\">\n  <thead>\n    <tr style=\"text-align: right;\">\n      <th></th>\n      <th>email</th>\n      <th>first</th>\n      <th>last</th>\n      <th>full_name</th>\n      <th>username</th>\n      <th>domain</th>\n    </tr>\n  </thead>\n  <tbody>\n    <tr>\n      <th>0</th>\n      <td>nathan@baboo.com</td>\n      <td>Nathan</td>\n      <td>Schafer</td>\n      <td>Nathan Schafer</td>\n      <td>nathan</td>\n      <td>baboo.com</td>\n    </tr>\n    <tr>\n      <th>1</th>\n      <td>baboo@postman.com</td>\n      <td>Babo</td>\n      <td>Namboori</td>\n      <td>Babo Namboori</td>\n      <td>baboo</td>\n      <td>postman.com</td>\n    </tr>\n    <tr>\n      <th>2</th>\n      <td>johndoe@email.com</td>\n      <td>John</td>\n      <td>Doe</td>\n      <td>John Doe</td>\n      <td>johndoe</td>\n      <td>email.com</td>\n    </tr>\n    <tr>\n      <th>3</th>\n      <td>tonys@baboo.com</td>\n      <td>Tony</td>\n      <td>Stark</td>\n      <td>NaN</td>\n      <td>NaN</td>\n      <td>NaN</td>\n    </tr>\n    <tr>\n      <th>4</th>\n      <td>steve@gmail.com</td>\n      <td>Steve</td>\n      <td>Rogers</td>\n      <td>NaN</td>\n      <td>NaN</td>\n      <td>NaN</td>\n    </tr>\n  </tbody>\n</table>\n</div>"
     },
     "metadata": {},
     "execution_count": 239
    }
   ],
   "source": [
    "people_df"
   ]
  },
  {
   "cell_type": "code",
   "execution_count": 243,
   "metadata": {},
   "outputs": [
    {
     "output_type": "execute_result",
     "data": {
      "text/plain": "               email   first      last       full_name username       domain\n0   nathan@baboo.com  Nathan   Schafer  Nathan Schafer   nathan    baboo.com\n1  baboo@postman.com    Babo  Namboori   Babo Namboori    baboo  postman.com\n3    tonys@baboo.com    Tony     Stark             NaN      NaN          NaN\n4    steve@gmail.com   Steve    Rogers             NaN      NaN          NaN",
      "text/html": "<div>\n<style scoped>\n    .dataframe tbody tr th:only-of-type {\n        vertical-align: middle;\n    }\n\n    .dataframe tbody tr th {\n        vertical-align: top;\n    }\n\n    .dataframe thead th {\n        text-align: right;\n    }\n</style>\n<table border=\"1\" class=\"dataframe\">\n  <thead>\n    <tr style=\"text-align: right;\">\n      <th></th>\n      <th>email</th>\n      <th>first</th>\n      <th>last</th>\n      <th>full_name</th>\n      <th>username</th>\n      <th>domain</th>\n    </tr>\n  </thead>\n  <tbody>\n    <tr>\n      <th>0</th>\n      <td>nathan@baboo.com</td>\n      <td>Nathan</td>\n      <td>Schafer</td>\n      <td>Nathan Schafer</td>\n      <td>nathan</td>\n      <td>baboo.com</td>\n    </tr>\n    <tr>\n      <th>1</th>\n      <td>baboo@postman.com</td>\n      <td>Babo</td>\n      <td>Namboori</td>\n      <td>Babo Namboori</td>\n      <td>baboo</td>\n      <td>postman.com</td>\n    </tr>\n    <tr>\n      <th>3</th>\n      <td>tonys@baboo.com</td>\n      <td>Tony</td>\n      <td>Stark</td>\n      <td>NaN</td>\n      <td>NaN</td>\n      <td>NaN</td>\n    </tr>\n    <tr>\n      <th>4</th>\n      <td>steve@gmail.com</td>\n      <td>Steve</td>\n      <td>Rogers</td>\n      <td>NaN</td>\n      <td>NaN</td>\n      <td>NaN</td>\n    </tr>\n  </tbody>\n</table>\n</div>"
     },
     "metadata": {},
     "execution_count": 243
    }
   ],
   "source": [
    "filt = people_df['last'] == 'Doe'\n",
    "people_df.drop(index= people_df[filt].index)\n"
   ]
  },
  {
   "cell_type": "code",
   "execution_count": 244,
   "metadata": {},
   "outputs": [
    {
     "output_type": "execute_result",
     "data": {
      "text/plain": "               email   first      last       full_name username       domain\n2  johndoe@email.com    John       Doe        John Doe  johndoe    email.com\n1  baboo@postman.com    Babo  Namboori   Babo Namboori    baboo  postman.com\n4    steve@gmail.com   Steve    Rogers             NaN      NaN          NaN\n0   nathan@baboo.com  Nathan   Schafer  Nathan Schafer   nathan    baboo.com\n3    tonys@baboo.com    Tony     Stark             NaN      NaN          NaN",
      "text/html": "<div>\n<style scoped>\n    .dataframe tbody tr th:only-of-type {\n        vertical-align: middle;\n    }\n\n    .dataframe tbody tr th {\n        vertical-align: top;\n    }\n\n    .dataframe thead th {\n        text-align: right;\n    }\n</style>\n<table border=\"1\" class=\"dataframe\">\n  <thead>\n    <tr style=\"text-align: right;\">\n      <th></th>\n      <th>email</th>\n      <th>first</th>\n      <th>last</th>\n      <th>full_name</th>\n      <th>username</th>\n      <th>domain</th>\n    </tr>\n  </thead>\n  <tbody>\n    <tr>\n      <th>2</th>\n      <td>johndoe@email.com</td>\n      <td>John</td>\n      <td>Doe</td>\n      <td>John Doe</td>\n      <td>johndoe</td>\n      <td>email.com</td>\n    </tr>\n    <tr>\n      <th>1</th>\n      <td>baboo@postman.com</td>\n      <td>Babo</td>\n      <td>Namboori</td>\n      <td>Babo Namboori</td>\n      <td>baboo</td>\n      <td>postman.com</td>\n    </tr>\n    <tr>\n      <th>4</th>\n      <td>steve@gmail.com</td>\n      <td>Steve</td>\n      <td>Rogers</td>\n      <td>NaN</td>\n      <td>NaN</td>\n      <td>NaN</td>\n    </tr>\n    <tr>\n      <th>0</th>\n      <td>nathan@baboo.com</td>\n      <td>Nathan</td>\n      <td>Schafer</td>\n      <td>Nathan Schafer</td>\n      <td>nathan</td>\n      <td>baboo.com</td>\n    </tr>\n    <tr>\n      <th>3</th>\n      <td>tonys@baboo.com</td>\n      <td>Tony</td>\n      <td>Stark</td>\n      <td>NaN</td>\n      <td>NaN</td>\n      <td>NaN</td>\n    </tr>\n  </tbody>\n</table>\n</div>"
     },
     "metadata": {},
     "execution_count": 244
    }
   ],
   "source": [
    "# sorting data\n",
    "# sort by last name\n",
    "people_df.sort_values(by='last')"
   ]
  },
  {
   "cell_type": "code",
   "execution_count": 245,
   "metadata": {},
   "outputs": [
    {
     "output_type": "execute_result",
     "data": {
      "text/plain": "               email   first      last       full_name username       domain\n3    tonys@baboo.com    Tony     Stark             NaN      NaN          NaN\n0   nathan@baboo.com  Nathan   Schafer  Nathan Schafer   nathan    baboo.com\n4    steve@gmail.com   Steve    Rogers             NaN      NaN          NaN\n1  baboo@postman.com    Babo  Namboori   Babo Namboori    baboo  postman.com\n2  johndoe@email.com    John       Doe        John Doe  johndoe    email.com",
      "text/html": "<div>\n<style scoped>\n    .dataframe tbody tr th:only-of-type {\n        vertical-align: middle;\n    }\n\n    .dataframe tbody tr th {\n        vertical-align: top;\n    }\n\n    .dataframe thead th {\n        text-align: right;\n    }\n</style>\n<table border=\"1\" class=\"dataframe\">\n  <thead>\n    <tr style=\"text-align: right;\">\n      <th></th>\n      <th>email</th>\n      <th>first</th>\n      <th>last</th>\n      <th>full_name</th>\n      <th>username</th>\n      <th>domain</th>\n    </tr>\n  </thead>\n  <tbody>\n    <tr>\n      <th>3</th>\n      <td>tonys@baboo.com</td>\n      <td>Tony</td>\n      <td>Stark</td>\n      <td>NaN</td>\n      <td>NaN</td>\n      <td>NaN</td>\n    </tr>\n    <tr>\n      <th>0</th>\n      <td>nathan@baboo.com</td>\n      <td>Nathan</td>\n      <td>Schafer</td>\n      <td>Nathan Schafer</td>\n      <td>nathan</td>\n      <td>baboo.com</td>\n    </tr>\n    <tr>\n      <th>4</th>\n      <td>steve@gmail.com</td>\n      <td>Steve</td>\n      <td>Rogers</td>\n      <td>NaN</td>\n      <td>NaN</td>\n      <td>NaN</td>\n    </tr>\n    <tr>\n      <th>1</th>\n      <td>baboo@postman.com</td>\n      <td>Babo</td>\n      <td>Namboori</td>\n      <td>Babo Namboori</td>\n      <td>baboo</td>\n      <td>postman.com</td>\n    </tr>\n    <tr>\n      <th>2</th>\n      <td>johndoe@email.com</td>\n      <td>John</td>\n      <td>Doe</td>\n      <td>John Doe</td>\n      <td>johndoe</td>\n      <td>email.com</td>\n    </tr>\n  </tbody>\n</table>\n</div>"
     },
     "metadata": {},
     "execution_count": 245
    }
   ],
   "source": [
    "people_df.sort_values(by='last', ascending = False) "
   ]
  },
  {
   "cell_type": "code",
   "execution_count": 246,
   "metadata": {},
   "outputs": [
    {
     "output_type": "execute_result",
     "data": {
      "text/plain": "               email   first      last       full_name username       domain\n3    tonys@baboo.com    Tony     Stark             NaN      NaN          NaN\n0   nathan@baboo.com  Nathan   Schafer  Nathan Schafer   nathan    baboo.com\n4    steve@gmail.com   Steve    Rogers             NaN      NaN          NaN\n1  baboo@postman.com    Babo  Namboori   Babo Namboori    baboo  postman.com\n2  johndoe@email.com    John       Doe        John Doe  johndoe    email.com",
      "text/html": "<div>\n<style scoped>\n    .dataframe tbody tr th:only-of-type {\n        vertical-align: middle;\n    }\n\n    .dataframe tbody tr th {\n        vertical-align: top;\n    }\n\n    .dataframe thead th {\n        text-align: right;\n    }\n</style>\n<table border=\"1\" class=\"dataframe\">\n  <thead>\n    <tr style=\"text-align: right;\">\n      <th></th>\n      <th>email</th>\n      <th>first</th>\n      <th>last</th>\n      <th>full_name</th>\n      <th>username</th>\n      <th>domain</th>\n    </tr>\n  </thead>\n  <tbody>\n    <tr>\n      <th>3</th>\n      <td>tonys@baboo.com</td>\n      <td>Tony</td>\n      <td>Stark</td>\n      <td>NaN</td>\n      <td>NaN</td>\n      <td>NaN</td>\n    </tr>\n    <tr>\n      <th>0</th>\n      <td>nathan@baboo.com</td>\n      <td>Nathan</td>\n      <td>Schafer</td>\n      <td>Nathan Schafer</td>\n      <td>nathan</td>\n      <td>baboo.com</td>\n    </tr>\n    <tr>\n      <th>4</th>\n      <td>steve@gmail.com</td>\n      <td>Steve</td>\n      <td>Rogers</td>\n      <td>NaN</td>\n      <td>NaN</td>\n      <td>NaN</td>\n    </tr>\n    <tr>\n      <th>1</th>\n      <td>baboo@postman.com</td>\n      <td>Babo</td>\n      <td>Namboori</td>\n      <td>Babo Namboori</td>\n      <td>baboo</td>\n      <td>postman.com</td>\n    </tr>\n    <tr>\n      <th>2</th>\n      <td>johndoe@email.com</td>\n      <td>John</td>\n      <td>Doe</td>\n      <td>John Doe</td>\n      <td>johndoe</td>\n      <td>email.com</td>\n    </tr>\n  </tbody>\n</table>\n</div>"
     },
     "metadata": {},
     "execution_count": 246
    }
   ],
   "source": [
    "# sort multiple columns\n",
    "people_df.sort_values(by = ['last', 'first'], ascending = False)"
   ]
  },
  {
   "cell_type": "code",
   "execution_count": 247,
   "metadata": {},
   "outputs": [
    {
     "output_type": "execute_result",
     "data": {
      "text/plain": "               email   first      last       full_name username       domain\n3    tonys@baboo.com    Tony     Stark             NaN      NaN          NaN\n0   nathan@baboo.com  Nathan   Schafer  Nathan Schafer   nathan    baboo.com\n4    steve@gmail.com   Steve    Rogers             NaN      NaN          NaN\n1  baboo@postman.com    Babo  Namboori   Babo Namboori    baboo  postman.com\n2  johndoe@email.com    John       Doe        John Doe  johndoe    email.com",
      "text/html": "<div>\n<style scoped>\n    .dataframe tbody tr th:only-of-type {\n        vertical-align: middle;\n    }\n\n    .dataframe tbody tr th {\n        vertical-align: top;\n    }\n\n    .dataframe thead th {\n        text-align: right;\n    }\n</style>\n<table border=\"1\" class=\"dataframe\">\n  <thead>\n    <tr style=\"text-align: right;\">\n      <th></th>\n      <th>email</th>\n      <th>first</th>\n      <th>last</th>\n      <th>full_name</th>\n      <th>username</th>\n      <th>domain</th>\n    </tr>\n  </thead>\n  <tbody>\n    <tr>\n      <th>3</th>\n      <td>tonys@baboo.com</td>\n      <td>Tony</td>\n      <td>Stark</td>\n      <td>NaN</td>\n      <td>NaN</td>\n      <td>NaN</td>\n    </tr>\n    <tr>\n      <th>0</th>\n      <td>nathan@baboo.com</td>\n      <td>Nathan</td>\n      <td>Schafer</td>\n      <td>Nathan Schafer</td>\n      <td>nathan</td>\n      <td>baboo.com</td>\n    </tr>\n    <tr>\n      <th>4</th>\n      <td>steve@gmail.com</td>\n      <td>Steve</td>\n      <td>Rogers</td>\n      <td>NaN</td>\n      <td>NaN</td>\n      <td>NaN</td>\n    </tr>\n    <tr>\n      <th>1</th>\n      <td>baboo@postman.com</td>\n      <td>Babo</td>\n      <td>Namboori</td>\n      <td>Babo Namboori</td>\n      <td>baboo</td>\n      <td>postman.com</td>\n    </tr>\n    <tr>\n      <th>2</th>\n      <td>johndoe@email.com</td>\n      <td>John</td>\n      <td>Doe</td>\n      <td>John Doe</td>\n      <td>johndoe</td>\n      <td>email.com</td>\n    </tr>\n  </tbody>\n</table>\n</div>"
     },
     "metadata": {},
     "execution_count": 247
    }
   ],
   "source": [
    "# sort by last name descending, first name ascending\n",
    "people_df.sort_values(by = ['last', 'first'], ascending = [False, True])\n",
    "# add inplace = true if you want to keep the changes"
   ]
  },
  {
   "cell_type": "code",
   "execution_count": 249,
   "metadata": {},
   "outputs": [
    {
     "output_type": "execute_result",
     "data": {
      "text/plain": "               email   first      last       full_name username       domain\n0   nathan@baboo.com  Nathan   Schafer  Nathan Schafer   nathan    baboo.com\n1  baboo@postman.com    Babo  Namboori   Babo Namboori    baboo  postman.com\n2  johndoe@email.com    John       Doe        John Doe  johndoe    email.com\n3    tonys@baboo.com    Tony     Stark             NaN      NaN          NaN\n4    steve@gmail.com   Steve    Rogers             NaN      NaN          NaN",
      "text/html": "<div>\n<style scoped>\n    .dataframe tbody tr th:only-of-type {\n        vertical-align: middle;\n    }\n\n    .dataframe tbody tr th {\n        vertical-align: top;\n    }\n\n    .dataframe thead th {\n        text-align: right;\n    }\n</style>\n<table border=\"1\" class=\"dataframe\">\n  <thead>\n    <tr style=\"text-align: right;\">\n      <th></th>\n      <th>email</th>\n      <th>first</th>\n      <th>last</th>\n      <th>full_name</th>\n      <th>username</th>\n      <th>domain</th>\n    </tr>\n  </thead>\n  <tbody>\n    <tr>\n      <th>0</th>\n      <td>nathan@baboo.com</td>\n      <td>Nathan</td>\n      <td>Schafer</td>\n      <td>Nathan Schafer</td>\n      <td>nathan</td>\n      <td>baboo.com</td>\n    </tr>\n    <tr>\n      <th>1</th>\n      <td>baboo@postman.com</td>\n      <td>Babo</td>\n      <td>Namboori</td>\n      <td>Babo Namboori</td>\n      <td>baboo</td>\n      <td>postman.com</td>\n    </tr>\n    <tr>\n      <th>2</th>\n      <td>johndoe@email.com</td>\n      <td>John</td>\n      <td>Doe</td>\n      <td>John Doe</td>\n      <td>johndoe</td>\n      <td>email.com</td>\n    </tr>\n    <tr>\n      <th>3</th>\n      <td>tonys@baboo.com</td>\n      <td>Tony</td>\n      <td>Stark</td>\n      <td>NaN</td>\n      <td>NaN</td>\n      <td>NaN</td>\n    </tr>\n    <tr>\n      <th>4</th>\n      <td>steve@gmail.com</td>\n      <td>Steve</td>\n      <td>Rogers</td>\n      <td>NaN</td>\n      <td>NaN</td>\n      <td>NaN</td>\n    </tr>\n  </tbody>\n</table>\n</div>"
     },
     "metadata": {},
     "execution_count": 249
    }
   ],
   "source": [
    "# SORT BY INDEX\n",
    "people_df.sort_index()"
   ]
  },
  {
   "cell_type": "code",
   "execution_count": 251,
   "metadata": {},
   "outputs": [
    {
     "output_type": "execute_result",
     "data": {
      "text/plain": "2         Doe\n1    Namboori\n4      Rogers\n0     Schafer\n3       Stark\nName: last, dtype: object"
     },
     "metadata": {},
     "execution_count": 251
    }
   ],
   "source": [
    "# sort a column\n",
    "people_df['last'].sort_values()"
   ]
  },
  {
   "cell_type": "code",
   "execution_count": 253,
   "metadata": {},
   "outputs": [],
   "source": [
    "import numpy as np\n",
    "people = {\n",
    "    'first': ['Corey', 'Jane', 'John', 'Chris', np.nan, None, 'NA'], \n",
    "    'last': ['Schafer', 'Doe', 'Doe', 'Schafer', np.nan, np.nan, 'Missing'], \n",
    "    'email': ['CoreyMSchafer@gmail.com', 'JaneDoe@email.com', 'JohnDoe@email.com', None, np.nan, 'Anonymous@email.com', 'NA'],\n",
    "    'age': ['33', '55', '63', '36', None, None, 'Missing']\n",
    "}"
   ]
  },
  {
   "cell_type": "code",
   "execution_count": 255,
   "metadata": {},
   "outputs": [
    {
     "output_type": "execute_result",
     "data": {
      "text/plain": "False"
     },
     "metadata": {},
     "execution_count": 255
    }
   ],
   "source": [
    "np.nan == np.nan"
   ]
  },
  {
   "cell_type": "code",
   "execution_count": 257,
   "metadata": {},
   "outputs": [
    {
     "output_type": "execute_result",
     "data": {
      "text/plain": "   first     last                    email      age\n0  Corey  Schafer  CoreyMSchafer@gmail.com       33\n1   Jane      Doe        JaneDoe@email.com       55\n2   John      Doe        JohnDoe@email.com       63\n3  Chris  Schafer                     None       36\n4    NaN      NaN                      NaN     None\n5   None      NaN      Anonymous@email.com     None\n6     NA  Missing                       NA  Missing",
      "text/html": "<div>\n<style scoped>\n    .dataframe tbody tr th:only-of-type {\n        vertical-align: middle;\n    }\n\n    .dataframe tbody tr th {\n        vertical-align: top;\n    }\n\n    .dataframe thead th {\n        text-align: right;\n    }\n</style>\n<table border=\"1\" class=\"dataframe\">\n  <thead>\n    <tr style=\"text-align: right;\">\n      <th></th>\n      <th>first</th>\n      <th>last</th>\n      <th>email</th>\n      <th>age</th>\n    </tr>\n  </thead>\n  <tbody>\n    <tr>\n      <th>0</th>\n      <td>Corey</td>\n      <td>Schafer</td>\n      <td>CoreyMSchafer@gmail.com</td>\n      <td>33</td>\n    </tr>\n    <tr>\n      <th>1</th>\n      <td>Jane</td>\n      <td>Doe</td>\n      <td>JaneDoe@email.com</td>\n      <td>55</td>\n    </tr>\n    <tr>\n      <th>2</th>\n      <td>John</td>\n      <td>Doe</td>\n      <td>JohnDoe@email.com</td>\n      <td>63</td>\n    </tr>\n    <tr>\n      <th>3</th>\n      <td>Chris</td>\n      <td>Schafer</td>\n      <td>None</td>\n      <td>36</td>\n    </tr>\n    <tr>\n      <th>4</th>\n      <td>NaN</td>\n      <td>NaN</td>\n      <td>NaN</td>\n      <td>None</td>\n    </tr>\n    <tr>\n      <th>5</th>\n      <td>None</td>\n      <td>NaN</td>\n      <td>Anonymous@email.com</td>\n      <td>None</td>\n    </tr>\n    <tr>\n      <th>6</th>\n      <td>NA</td>\n      <td>Missing</td>\n      <td>NA</td>\n      <td>Missing</td>\n    </tr>\n  </tbody>\n</table>\n</div>"
     },
     "metadata": {},
     "execution_count": 257
    }
   ],
   "source": [
    "df = pd.DataFrame(people)\n",
    "df"
   ]
  },
  {
   "cell_type": "code",
   "execution_count": 258,
   "metadata": {},
   "outputs": [
    {
     "output_type": "execute_result",
     "data": {
      "text/plain": "   first     last                    email      age\n0  Corey  Schafer  CoreyMSchafer@gmail.com       33\n1   Jane      Doe        JaneDoe@email.com       55\n2   John      Doe        JohnDoe@email.com       63\n6     NA  Missing                       NA  Missing",
      "text/html": "<div>\n<style scoped>\n    .dataframe tbody tr th:only-of-type {\n        vertical-align: middle;\n    }\n\n    .dataframe tbody tr th {\n        vertical-align: top;\n    }\n\n    .dataframe thead th {\n        text-align: right;\n    }\n</style>\n<table border=\"1\" class=\"dataframe\">\n  <thead>\n    <tr style=\"text-align: right;\">\n      <th></th>\n      <th>first</th>\n      <th>last</th>\n      <th>email</th>\n      <th>age</th>\n    </tr>\n  </thead>\n  <tbody>\n    <tr>\n      <th>0</th>\n      <td>Corey</td>\n      <td>Schafer</td>\n      <td>CoreyMSchafer@gmail.com</td>\n      <td>33</td>\n    </tr>\n    <tr>\n      <th>1</th>\n      <td>Jane</td>\n      <td>Doe</td>\n      <td>JaneDoe@email.com</td>\n      <td>55</td>\n    </tr>\n    <tr>\n      <th>2</th>\n      <td>John</td>\n      <td>Doe</td>\n      <td>JohnDoe@email.com</td>\n      <td>63</td>\n    </tr>\n    <tr>\n      <th>6</th>\n      <td>NA</td>\n      <td>Missing</td>\n      <td>NA</td>\n      <td>Missing</td>\n    </tr>\n  </tbody>\n</table>\n</div>"
     },
     "metadata": {},
     "execution_count": 258
    }
   ],
   "source": [
    "df.dropna()"
   ]
  },
  {
   "cell_type": "code",
   "execution_count": 259,
   "metadata": {},
   "outputs": [
    {
     "output_type": "execute_result",
     "data": {
      "text/plain": "   first     last                    email      age\n0  Corey  Schafer  CoreyMSchafer@gmail.com       33\n1   Jane      Doe        JaneDoe@email.com       55\n2   John      Doe        JohnDoe@email.com       63\n3  Chris  Schafer                     None       36\n5   None      NaN      Anonymous@email.com     None\n6     NA  Missing                       NA  Missing",
      "text/html": "<div>\n<style scoped>\n    .dataframe tbody tr th:only-of-type {\n        vertical-align: middle;\n    }\n\n    .dataframe tbody tr th {\n        vertical-align: top;\n    }\n\n    .dataframe thead th {\n        text-align: right;\n    }\n</style>\n<table border=\"1\" class=\"dataframe\">\n  <thead>\n    <tr style=\"text-align: right;\">\n      <th></th>\n      <th>first</th>\n      <th>last</th>\n      <th>email</th>\n      <th>age</th>\n    </tr>\n  </thead>\n  <tbody>\n    <tr>\n      <th>0</th>\n      <td>Corey</td>\n      <td>Schafer</td>\n      <td>CoreyMSchafer@gmail.com</td>\n      <td>33</td>\n    </tr>\n    <tr>\n      <th>1</th>\n      <td>Jane</td>\n      <td>Doe</td>\n      <td>JaneDoe@email.com</td>\n      <td>55</td>\n    </tr>\n    <tr>\n      <th>2</th>\n      <td>John</td>\n      <td>Doe</td>\n      <td>JohnDoe@email.com</td>\n      <td>63</td>\n    </tr>\n    <tr>\n      <th>3</th>\n      <td>Chris</td>\n      <td>Schafer</td>\n      <td>None</td>\n      <td>36</td>\n    </tr>\n    <tr>\n      <th>5</th>\n      <td>None</td>\n      <td>NaN</td>\n      <td>Anonymous@email.com</td>\n      <td>None</td>\n    </tr>\n    <tr>\n      <th>6</th>\n      <td>NA</td>\n      <td>Missing</td>\n      <td>NA</td>\n      <td>Missing</td>\n    </tr>\n  </tbody>\n</table>\n</div>"
     },
     "metadata": {},
     "execution_count": 259
    }
   ],
   "source": [
    "df.dropna(axis='index', how='all')  #all row values have to be missing  for a row to be removed"
   ]
  },
  {
   "cell_type": "code",
   "execution_count": 262,
   "metadata": {},
   "outputs": [
    {
     "output_type": "execute_result",
     "data": {
      "text/plain": "   first     last                    email      age\n0  Corey  Schafer  CoreyMSchafer@gmail.com       33\n1   Jane      Doe        JaneDoe@email.com       55\n2   John      Doe        JohnDoe@email.com       63\n3  Chris  Schafer                     None       36\n4    NaN      NaN                      NaN     None\n5   None      NaN      Anonymous@email.com     None\n6     NA  Missing                       NA  Missing",
      "text/html": "<div>\n<style scoped>\n    .dataframe tbody tr th:only-of-type {\n        vertical-align: middle;\n    }\n\n    .dataframe tbody tr th {\n        vertical-align: top;\n    }\n\n    .dataframe thead th {\n        text-align: right;\n    }\n</style>\n<table border=\"1\" class=\"dataframe\">\n  <thead>\n    <tr style=\"text-align: right;\">\n      <th></th>\n      <th>first</th>\n      <th>last</th>\n      <th>email</th>\n      <th>age</th>\n    </tr>\n  </thead>\n  <tbody>\n    <tr>\n      <th>0</th>\n      <td>Corey</td>\n      <td>Schafer</td>\n      <td>CoreyMSchafer@gmail.com</td>\n      <td>33</td>\n    </tr>\n    <tr>\n      <th>1</th>\n      <td>Jane</td>\n      <td>Doe</td>\n      <td>JaneDoe@email.com</td>\n      <td>55</td>\n    </tr>\n    <tr>\n      <th>2</th>\n      <td>John</td>\n      <td>Doe</td>\n      <td>JohnDoe@email.com</td>\n      <td>63</td>\n    </tr>\n    <tr>\n      <th>3</th>\n      <td>Chris</td>\n      <td>Schafer</td>\n      <td>None</td>\n      <td>36</td>\n    </tr>\n    <tr>\n      <th>4</th>\n      <td>NaN</td>\n      <td>NaN</td>\n      <td>NaN</td>\n      <td>None</td>\n    </tr>\n    <tr>\n      <th>5</th>\n      <td>None</td>\n      <td>NaN</td>\n      <td>Anonymous@email.com</td>\n      <td>None</td>\n    </tr>\n    <tr>\n      <th>6</th>\n      <td>NA</td>\n      <td>Missing</td>\n      <td>NA</td>\n      <td>Missing</td>\n    </tr>\n  </tbody>\n</table>\n</div>"
     },
     "metadata": {},
     "execution_count": 262
    }
   ],
   "source": [
    "df.dropna(axis='columns', how='all')"
   ]
  },
  {
   "cell_type": "code",
   "execution_count": 265,
   "metadata": {},
   "outputs": [
    {
     "output_type": "execute_result",
     "data": {
      "text/plain": "   first     last                    email      age\n0  Corey  Schafer  CoreyMSchafer@gmail.com       33\n1   Jane      Doe        JaneDoe@email.com       55\n2   John      Doe        JohnDoe@email.com       63\n3  Chris  Schafer                     None       36\n5   None      NaN      Anonymous@email.com     None\n6     NA  Missing                       NA  Missing",
      "text/html": "<div>\n<style scoped>\n    .dataframe tbody tr th:only-of-type {\n        vertical-align: middle;\n    }\n\n    .dataframe tbody tr th {\n        vertical-align: top;\n    }\n\n    .dataframe thead th {\n        text-align: right;\n    }\n</style>\n<table border=\"1\" class=\"dataframe\">\n  <thead>\n    <tr style=\"text-align: right;\">\n      <th></th>\n      <th>first</th>\n      <th>last</th>\n      <th>email</th>\n      <th>age</th>\n    </tr>\n  </thead>\n  <tbody>\n    <tr>\n      <th>0</th>\n      <td>Corey</td>\n      <td>Schafer</td>\n      <td>CoreyMSchafer@gmail.com</td>\n      <td>33</td>\n    </tr>\n    <tr>\n      <th>1</th>\n      <td>Jane</td>\n      <td>Doe</td>\n      <td>JaneDoe@email.com</td>\n      <td>55</td>\n    </tr>\n    <tr>\n      <th>2</th>\n      <td>John</td>\n      <td>Doe</td>\n      <td>JohnDoe@email.com</td>\n      <td>63</td>\n    </tr>\n    <tr>\n      <th>3</th>\n      <td>Chris</td>\n      <td>Schafer</td>\n      <td>None</td>\n      <td>36</td>\n    </tr>\n    <tr>\n      <th>5</th>\n      <td>None</td>\n      <td>NaN</td>\n      <td>Anonymous@email.com</td>\n      <td>None</td>\n    </tr>\n    <tr>\n      <th>6</th>\n      <td>NA</td>\n      <td>Missing</td>\n      <td>NA</td>\n      <td>Missing</td>\n    </tr>\n  </tbody>\n</table>\n</div>"
     },
     "metadata": {},
     "execution_count": 265
    }
   ],
   "source": [
    "df.dropna(axis='index', how='all', subset=['last','email'])"
   ]
  },
  {
   "cell_type": "code",
   "execution_count": 268,
   "metadata": {},
   "outputs": [],
   "source": [
    "df.replace('NA', np.nan, inplace=True)\n",
    "df.replace('Missing', np.nan, inplace = True)"
   ]
  },
  {
   "cell_type": "code",
   "execution_count": 269,
   "metadata": {},
   "outputs": [
    {
     "output_type": "execute_result",
     "data": {
      "text/plain": "   first     last                    email   age\n0  Corey  Schafer  CoreyMSchafer@gmail.com    33\n1   Jane      Doe        JaneDoe@email.com    55\n2   John      Doe        JohnDoe@email.com    63\n3  Chris  Schafer                     None    36\n4    NaN      NaN                      NaN  None\n5   None      NaN      Anonymous@email.com  None\n6    NaN      NaN                      NaN   NaN",
      "text/html": "<div>\n<style scoped>\n    .dataframe tbody tr th:only-of-type {\n        vertical-align: middle;\n    }\n\n    .dataframe tbody tr th {\n        vertical-align: top;\n    }\n\n    .dataframe thead th {\n        text-align: right;\n    }\n</style>\n<table border=\"1\" class=\"dataframe\">\n  <thead>\n    <tr style=\"text-align: right;\">\n      <th></th>\n      <th>first</th>\n      <th>last</th>\n      <th>email</th>\n      <th>age</th>\n    </tr>\n  </thead>\n  <tbody>\n    <tr>\n      <th>0</th>\n      <td>Corey</td>\n      <td>Schafer</td>\n      <td>CoreyMSchafer@gmail.com</td>\n      <td>33</td>\n    </tr>\n    <tr>\n      <th>1</th>\n      <td>Jane</td>\n      <td>Doe</td>\n      <td>JaneDoe@email.com</td>\n      <td>55</td>\n    </tr>\n    <tr>\n      <th>2</th>\n      <td>John</td>\n      <td>Doe</td>\n      <td>JohnDoe@email.com</td>\n      <td>63</td>\n    </tr>\n    <tr>\n      <th>3</th>\n      <td>Chris</td>\n      <td>Schafer</td>\n      <td>None</td>\n      <td>36</td>\n    </tr>\n    <tr>\n      <th>4</th>\n      <td>NaN</td>\n      <td>NaN</td>\n      <td>NaN</td>\n      <td>None</td>\n    </tr>\n    <tr>\n      <th>5</th>\n      <td>None</td>\n      <td>NaN</td>\n      <td>Anonymous@email.com</td>\n      <td>None</td>\n    </tr>\n    <tr>\n      <th>6</th>\n      <td>NaN</td>\n      <td>NaN</td>\n      <td>NaN</td>\n      <td>NaN</td>\n    </tr>\n  </tbody>\n</table>\n</div>"
     },
     "metadata": {},
     "execution_count": 269
    }
   ],
   "source": [
    "df"
   ]
  },
  {
   "cell_type": "code",
   "execution_count": 270,
   "metadata": {},
   "outputs": [
    {
     "output_type": "execute_result",
     "data": {
      "text/plain": "   first   last  email    age\n0  False  False  False  False\n1  False  False  False  False\n2  False  False  False  False\n3  False  False   True  False\n4   True   True   True   True\n5   True   True  False   True\n6   True   True   True   True",
      "text/html": "<div>\n<style scoped>\n    .dataframe tbody tr th:only-of-type {\n        vertical-align: middle;\n    }\n\n    .dataframe tbody tr th {\n        vertical-align: top;\n    }\n\n    .dataframe thead th {\n        text-align: right;\n    }\n</style>\n<table border=\"1\" class=\"dataframe\">\n  <thead>\n    <tr style=\"text-align: right;\">\n      <th></th>\n      <th>first</th>\n      <th>last</th>\n      <th>email</th>\n      <th>age</th>\n    </tr>\n  </thead>\n  <tbody>\n    <tr>\n      <th>0</th>\n      <td>False</td>\n      <td>False</td>\n      <td>False</td>\n      <td>False</td>\n    </tr>\n    <tr>\n      <th>1</th>\n      <td>False</td>\n      <td>False</td>\n      <td>False</td>\n      <td>False</td>\n    </tr>\n    <tr>\n      <th>2</th>\n      <td>False</td>\n      <td>False</td>\n      <td>False</td>\n      <td>False</td>\n    </tr>\n    <tr>\n      <th>3</th>\n      <td>False</td>\n      <td>False</td>\n      <td>True</td>\n      <td>False</td>\n    </tr>\n    <tr>\n      <th>4</th>\n      <td>True</td>\n      <td>True</td>\n      <td>True</td>\n      <td>True</td>\n    </tr>\n    <tr>\n      <th>5</th>\n      <td>True</td>\n      <td>True</td>\n      <td>False</td>\n      <td>True</td>\n    </tr>\n    <tr>\n      <th>6</th>\n      <td>True</td>\n      <td>True</td>\n      <td>True</td>\n      <td>True</td>\n    </tr>\n  </tbody>\n</table>\n</div>"
     },
     "metadata": {},
     "execution_count": 270
    }
   ],
   "source": [
    "df.isna()"
   ]
  },
  {
   "cell_type": "code",
   "execution_count": 271,
   "metadata": {},
   "outputs": [
    {
     "output_type": "execute_result",
     "data": {
      "text/plain": "     first     last                    email      age\n0    Corey  Schafer  CoreyMSchafer@gmail.com       33\n1     Jane      Doe        JaneDoe@email.com       55\n2     John      Doe        JohnDoe@email.com       63\n3    Chris  Schafer                  MISSING       36\n4  MISSING  MISSING                  MISSING  MISSING\n5  MISSING  MISSING      Anonymous@email.com  MISSING\n6  MISSING  MISSING                  MISSING  MISSING",
      "text/html": "<div>\n<style scoped>\n    .dataframe tbody tr th:only-of-type {\n        vertical-align: middle;\n    }\n\n    .dataframe tbody tr th {\n        vertical-align: top;\n    }\n\n    .dataframe thead th {\n        text-align: right;\n    }\n</style>\n<table border=\"1\" class=\"dataframe\">\n  <thead>\n    <tr style=\"text-align: right;\">\n      <th></th>\n      <th>first</th>\n      <th>last</th>\n      <th>email</th>\n      <th>age</th>\n    </tr>\n  </thead>\n  <tbody>\n    <tr>\n      <th>0</th>\n      <td>Corey</td>\n      <td>Schafer</td>\n      <td>CoreyMSchafer@gmail.com</td>\n      <td>33</td>\n    </tr>\n    <tr>\n      <th>1</th>\n      <td>Jane</td>\n      <td>Doe</td>\n      <td>JaneDoe@email.com</td>\n      <td>55</td>\n    </tr>\n    <tr>\n      <th>2</th>\n      <td>John</td>\n      <td>Doe</td>\n      <td>JohnDoe@email.com</td>\n      <td>63</td>\n    </tr>\n    <tr>\n      <th>3</th>\n      <td>Chris</td>\n      <td>Schafer</td>\n      <td>MISSING</td>\n      <td>36</td>\n    </tr>\n    <tr>\n      <th>4</th>\n      <td>MISSING</td>\n      <td>MISSING</td>\n      <td>MISSING</td>\n      <td>MISSING</td>\n    </tr>\n    <tr>\n      <th>5</th>\n      <td>MISSING</td>\n      <td>MISSING</td>\n      <td>Anonymous@email.com</td>\n      <td>MISSING</td>\n    </tr>\n    <tr>\n      <th>6</th>\n      <td>MISSING</td>\n      <td>MISSING</td>\n      <td>MISSING</td>\n      <td>MISSING</td>\n    </tr>\n  </tbody>\n</table>\n</div>"
     },
     "metadata": {},
     "execution_count": 271
    }
   ],
   "source": [
    "df.fillna('MISSING')"
   ]
  },
  {
   "cell_type": "code",
   "execution_count": 273,
   "metadata": {},
   "outputs": [
    {
     "output_type": "execute_result",
     "data": {
      "text/plain": "0    Schafer\n1        Doe\n2        Doe\n3    Schafer\n4          0\n5          0\n6          0\nName: last, dtype: object"
     },
     "metadata": {},
     "execution_count": 273
    }
   ],
   "source": [
    "df['last'].fillna(0)"
   ]
  },
  {
   "cell_type": "code",
   "execution_count": 274,
   "metadata": {},
   "outputs": [
    {
     "output_type": "execute_result",
     "data": {
      "text/plain": "first    object\nlast     object\nemail    object\nage      object\ndtype: object"
     },
     "metadata": {},
     "execution_count": 274
    }
   ],
   "source": [
    "df.dtypes"
   ]
  },
  {
   "cell_type": "code",
   "execution_count": 277,
   "metadata": {},
   "outputs": [],
   "source": [
    "df['age']= df['age'].astype(float)\n",
    "# NaN value is actually a float under the hood\n"
   ]
  },
  {
   "cell_type": "code",
   "execution_count": 278,
   "metadata": {},
   "outputs": [
    {
     "output_type": "execute_result",
     "data": {
      "text/plain": "first     object\nlast      object\nemail     object\nage      float64\ndtype: object"
     },
     "metadata": {},
     "execution_count": 278
    }
   ],
   "source": [
    "df.dtypes"
   ]
  },
  {
   "cell_type": "code",
   "execution_count": 279,
   "metadata": {},
   "outputs": [
    {
     "output_type": "execute_result",
     "data": {
      "text/plain": "46.75"
     },
     "metadata": {},
     "execution_count": 279
    }
   ],
   "source": [
    "df['age'].mean()"
   ]
  },
  {
   "cell_type": "code",
   "execution_count": null,
   "metadata": {},
   "outputs": [],
   "source": []
  },
  {
   "cell_type": "code",
   "execution_count": null,
   "metadata": {},
   "outputs": [],
   "source": []
  },
  {
   "cell_type": "code",
   "execution_count": null,
   "metadata": {},
   "outputs": [],
   "source": []
  },
  {
   "cell_type": "code",
   "execution_count": null,
   "metadata": {},
   "outputs": [],
   "source": [
    "print(\"hello\n",
    "\")"
   ]
  }
 ]
}